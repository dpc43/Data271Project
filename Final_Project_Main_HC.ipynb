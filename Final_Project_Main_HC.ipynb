{
 "cells": [
  {
   "cell_type": "markdown",
   "id": "57be5fe3",
   "metadata": {},
   "source": [
    "### **GitHub repo link:** https://github.com/dpc43/Data271Project"
   ]
  },
  {
   "cell_type": "markdown",
   "id": "52d04b13",
   "metadata": {},
   "source": [
    "## **Introduction:**\n",
    "\n",
    "California is well-known for its high cost of living. Over the last few decades, significant demographic and economic changes point to these costs becoming even higher than they were in the past, especially in relation to other states. For the first time in recent history, for instance, California had a declining population during the pandemic with many citing the increase in housing costs and the cost of living as their primary reasons for leaving (http://www.ppic.org). In addition to high cost of living, wage stagnation and income inequality are among other factors that may be exacerbating the higher costs of living (https://projects.calmatters.org/2018/digging-data-attainable-california-dream-today/).\n",
    "\n",
    "To explore this issue in more detail, we will analyze U.S. Census data to see if there are any clear patterns, trends, or relationships between cost of living, income distribution, and demographics in California since the 1990's. We may also compare how the cost of living in California has changed compared to other states within the US. The methods we plan to use to analyze the data include descriptive statistics, data visualization, identification of relationships and patterns, and transforming or creating features for further analysis, as needed. \n",
    "\n",
    "The analysis will help address this issue by creating a clearer picture of the long-term economic and demographic trends that may be contributing to California becoming an increasingly harder place to live. It may also help point to whether not these trends are likely to continue in the future. Knowing this information could help consumers of our analysis by highlighting specific factors that could be addressed to help prevent this situation from getting worse and to help move towards improving the quality of life in California both now and in the future."
   ]
  },
  {
   "cell_type": "markdown",
   "id": "b8c7f447",
   "metadata": {},
   "source": [
    "## **Modules:**\n",
    "\n",
    "These are the modules that will be used for this analsis and the reasons they are necessary:\n",
    "\n",
    "- **Numpy:** to manipulate data and make calculations efficiently using multi-dimensional arrays\n",
    "- **Pandas:** to clean, transform, and analyze large datasets using the speed and flexibility of Series and DataFrames\n",
    "- **Matplotlib:** to enhance control of plot elements when creating data visualizations\n",
    "- **Seaborn:** to create aesthetically pleasing and informative data visualizations\n",
    "- **re:** to easily get strings and clean the columns names\n",
    "- **warnings:** to filter out warning messages and provide a cleaner layout to the notebook"
   ]
  },
  {
   "cell_type": "code",
   "execution_count": 1,
   "id": "2f3de0b8",
   "metadata": {},
   "outputs": [
    {
     "name": "stderr",
     "output_type": "stream",
     "text": [
      "C:\\Users\\hlc19\\AppData\\Roaming\\Python\\Python311\\site-packages\\pandas\\core\\arrays\\masked.py:60: UserWarning: Pandas requires version '1.3.6' or newer of 'bottleneck' (version '1.3.5' currently installed).\n",
      "  from pandas.core import (\n"
     ]
    }
   ],
   "source": [
    "# Import Python modules\n",
    "\n",
    "import numpy as np\n",
    "import pandas as pd\n",
    "import matplotlib.pyplot as plt\n",
    "import seaborn as sns\n",
    "sns.set_style(\"darkgrid\")\n",
    "import warnings\n",
    "warnings.filterwarnings('ignore')"
   ]
  },
  {
   "cell_type": "markdown",
   "id": "f8b1cea7",
   "metadata": {},
   "source": [
    "## **Data Description**:\n",
    "\n",
    "<u>**Source:**</u> \n",
    "All of the datasets are sourced from IPUMS (Integrated Public Use Microdata Series) USA, an organization that \"collects, preserves and harmonizes U.S. census microdata and provides easy access to this data with enhanced documentation. Data includes decennial censuses from 1790 to 2010 and American Community Surveys (ACS) from 2000 to the present.\" \n",
    "\n",
    "Steven Ruggles, Sarah Flood, Matthew Sobek, Daniel Backman, Grace Cooper, Julia A. Rivera Drew, Stephanie Richards, Renae Rodgers, Jonathan Schroeder, and Kari C.W. Williams. IPUMS USA: Version 16.0 Minneapolis, MN: IPUMS, 2025. https://doi.org/10.18128/D010.V16.0\n",
    "\n",
    "<u>**Original Purpose:**</u> For the purpose of this analysis, two types of surveys were chosen -- the American Community Survey (ACS) 1-year (for the years 2000, 2006, 2011, 2016, 2021, and 2023) and the 1% Metro Sample Survey (for the year 1990 only since there wasn't yet an ACS survey prior to 2000). The purpose of the ACS 1-year surveys are to provide \"vital information on a yearly basis about our nation and its people. Information from the survey generates data that help inform how trillions of dollars in federal funds are distributed each year\" (https://www.census.gov/programs-surveys/acs/about.html). For example, in addition to general demographic information like age, sex, and race traditionally gathered in the decennial (10-year) census, the ACS surveys sample the population to gather additional information about jobs and occupations, educational attainment, veterans, whether people own or rent their homes, and more. The 1% Metro Sample Survey was a precursor to the ACS surveys, but had a similar purpose and was chosen for this analysis to provide a broader range of data over a longer time span.\n",
    "\n",
    "<u>**Sampling Methodology:**</u> Both the ACS 1-year surveys and 1% Metro Samply Survey were administered by US Census Bureau representatives, primarily through mail-in (and later internet) surveys, with telephone calls and/or in-person interviews used to follow-up with non-respondants. Even though the ACS 1-year surveys and 1% Metro Samply Survey are adiminstered similarly, there are some key differences in the sampling methodology. Specifically, the 1% Metro Survey is based on a 1-in-100 random sample of the US population selected from the decennial survey taken on a specific day (April 1st of that year). In contrast, the ACS 1-year survey is a random rolling sample of 1-in-100 US households taken throughout the year (except for the first ACS 1-year survey in 2000, which was a sample of 1-in-750 US households). For both survey types, no place with a population smaller than 100,000 people can be identified (except for the ACS 1-year survey in 2000, in which no population smaller than the state level can be identified). More information on the survey samples can be found here: https://usa.ipums.org/usa/sampdesc.shtml.\n",
    "\n",
    "<u>**Response Rate:**</u> While a response rate could not be found for the 1% Metro Survey in 1990, the overall response rate for the decennial survey in 1990 (from which data was gathered for the 1% Metro Survey) was around 67%. The response rate for the ACS 1-year survey generally ranges from 84.4% to 98%, except during the pandemic in 2020 when the response rate was 71.2% (https://www.census.gov/acs/www/methodology/sample-size-and-data-quality/response-rates/). The main difficulty when response rates are low is the estimates can be biased or inaccurate, and overall, not reflective of the true population. So, especially for years where the response rates are low, its important to keep in my mind that it is possible for these discrepancies to show up in the data analysis.\n",
    "\n",
    "<u>**Years:**</u> The goal of this analysis was to look at trends related to cost of living, income distribution, and demographics in California since the 1990's. While the 10 year gap between 1990 and the next survey year 2000 was not ideal, it was the only comparable data available for that timeframe, so data from the year 2000 was chosen next after 1990. The next years, 2006, 2011, 2016, and 2021, were all chosen in five-year increments (not including 2001 since it was so close to 2000) in a way that both captured before/after the housing crisis between 2007 and 2009, and that avoided the 2020 ACS 1-year survey, which had the lowest response rate ever for that survey during the pandemic. The last year 2023 was also chosen because it was the most recent year available in the dataset.\n",
    "\n",
    "<u>**Variables:**</u> While it varies by the year the data were collected, there are approximately 90-95 key variables available in the original dataset (https://www.census.gov/programs-surveys/acs/guidance/subjects.html). For this data analysis, the following variables were imported:\n",
    "\n",
    "| Variable Name | Description | Data Type |\n",
    "| :-- | :-- | :-- |\n",
    "| YEAR | The four-digit year when the household was enumerated or included in the census, the ACS, and the PRCS. | int64 |\n",
    "| SAMPLE | IPUMS sample identifier. Identifies the IPUMS sample from which the case is drawn. Each sample receives a unique 6-digit code. The codes are structured as follows: The first four digits are the year of the census/survey. The next two digits identify the sample within the year. | int64 |\n",
    "| SERIAL | Household serial number. An identifying number unique to each household record in a given sample. All person records are assigned the same serial number as the household record that they follow. | float64 |\n",
    "| CBSERIAL | The unique, original identification number assigned to each household record in a given sample by the Census Bureau. All person records are assigned the same serial number as the household record that they follow.  | int64 |\n",
    "| HHWT | Household weight. Indicates how many households in the U.S. population are represented by a given household in an IPUMS sample. | int64 |\n",
    "| CLUSTER | Household cluster for variance estimation designed for use with STRATA in Taylor series linear approximation for correction of complex sample design characteristics. | float64 |\n",
    "| STATEFIP | State (FIPS code). Reports the state in which the household was located, using the Federal Information Processing Standards (FIPS) coding scheme, which orders the states alphabetically. | int64 |\n",
    "| COUNTYFIP | County (FIPS code, identifiable counties only). Identifies the county where the household was enumerated, using the Federal Information Processing Standard (FIPS) coding scheme. | int64 |\n",
    "| STRATA | Household strata for variance estimation. Designed for use with CLUSTER in Taylor series linear approximation for correction of complex sample design characteristics. | int64 |\n",
    "| GQ | Group quarters status. GQ classifies all housing units as falling into one of three main categories: households, group quarters, or vacant units. | int64 |\n",
    "| OWNERSHP | Ownership of dwelling. Indicates whether the housing unit was rented or owned by its inhabitants. Housing units acquired with a mortgage or other lending arrangement(s) are classified as \"owned,\" even if repayment was not yet completed.| int64 |\n",
    "| OWNERSHPD | Ownership of dwelling (detailed version). Indicates whether housing unit is owned or being bought, owned free and clear, owned with mortgage or loan, rented, no cash rent, and/or with cash rent. | int64 |\n",
    "| MORTGAGE | Mortgage status. Indicates whether an owner-occupied housing unit was owned free and clear or was encumbered by a mortgage, loan, or other type of debt. | int64 |\n",
    "| PROPINSR | Annual property insurance cost (fire, hazard, flood). | int64 |\n",
    "| RENT | Monthly contract rent expressed in US dollars. | int64 |\n",
    "| COSTELEC | Annual electricity costs in US dollars. | int64 |\n",
    "| COSTGAS | Annual gas costs is US dollars. | int64 |\n",
    "| HHINCOME | Total household income in US dollars. | int64 |\n",
    "| VALUEH | Value of housing units in US dollars. | int64 |\n",
    "| COUPLETYPE | Householder couple type. Reports type of relationship the householder shares with their significant other, including both married and unmarried partners in same-sex and opposite-sex relationships. | float64 | int64 |\n",
    "| NFAMS | Number of families in household. A \"family\" is any group of persons related by blood, adoption, or marriage. An unrelated individual is considered a separate family. Thus, a household consisting of a widow and her servant contains two families; a household consisting of a large, multiple-generation extended family with no boarders, lodgers, or servants counts as a single family. | int64 |\n",
    "| PERNUM | Person number in sample unit. Comprised of numbers all persons within each household consecutively in the order in which they appear on the original census or survey form.  | int64 |\n",
    "| PERWT | Person weight. Indicates how many persons in the U.S. population are represented by a given person in an IPUMS sample. | int64 |\n",
    "| SEX | Reports whether the person was male or female. | int64 |\n",
    "| AGE | Age | int64 |\n",
    "| MARST | Gives each persons current marital status | int64 |\n",
    "| RACE | Race (broad categories) | int64 |\n",
    "| RACED | Race (detailed categories)| int64 |\n",
    "| EDUC | Educational attainment (broad categories). Measured by the highest year of school or degree completed. | int64 |\n",
    "| EDUCD | Educational attainment (detailed categories). Measured by the highest year of school or degree completed. | int64 |\n",
    "| EMPSTAT | Employment status. Indicates whether the respondent was a part of the labor force -- working or seeking work -- and, if so, whether the person was currently unemployed. | int64 |\n",
    "| EMPSTATD | Employment status (detailed version). Indicates whether the respondent was a part of the labor force -- working or seeking work -- and, if so, whether the person was currently unemployed and why. | int64 |\n",
    "| OCC | Occupation. Reports the person's primary occupation, coded into a contemporary census classification scheme  | int64 |\n",
    "| IND | Industry. Reports the type of industry in which the person performed an occupation. In census usage, \"industry\" currently refers to work setting and economic sector, as opposed to the worker's specific technical function, or \"occupation\". | int64 |\n",
    "| INCTOT | Total personal income, including each respondent's total pre-tax personal income or losses from all sources for the previous year. | int64 |\n",
    "| FTOTINC | Total family income, including the total pre-tax money income earned by one's family (as defined by FAMUNIT) from all sources for the previous year.| int64 |\n",
    "| POVERTY | Poverty status. Reports the total annual income of each person's family expressed as a percentage of their family's poverty threshold, which is determined by the family's size, number of children, and age of the householder. POVERTY assigns all members of each family-not each household-the same value. | int64 |\n",
    "\n",
    "<u>**Missing Data:**</u> While missing values are an inherant part of collecting survey data, the US Census Bureau imputes data with a series of complex models. More information here: https://www.census.gov/programs-surveys/sipp/methodology/data-editing-and-imputation.html"
   ]
  },
  {
   "cell_type": "markdown",
   "id": "bfb4ddd4",
   "metadata": {},
   "source": [
    "## **Import/Prepare Data:**\n",
    "\n",
    "One dataset was imported for each of the chosen survey years, including the American Community Survey (ACS) 1-year (for the years 2000, 2006, 2011, 2016, 2021, and 2023) and the 1% Metro Sample Survey (for the year 1990 only since there wasn't yet an ACS survey prior to 2000). After importing, the following steps were taken to inspect and clean each dataset:\n",
    "\n",
    "1. Check the number of rows and columns\n",
    "2. Check for missing values\n",
    "3. Check for duplicate values\n",
    "4. Check the data type of each column and convert them to more appropriate ones as needed\n",
    "5. Clean up the columns names by applying snake case format and rename some columns to make them more clear\n",
    "6. Add the cleaned dataframe to the directory to make a combined dataframe of all the datasets for analysis purposes"
   ]
  },
  {
   "cell_type": "markdown",
   "id": "a76abf34",
   "metadata": {},
   "source": [
    "### Import 1990 1% Metro Sample Survey:"
   ]
  },
  {
   "cell_type": "code",
   "execution_count": 2,
   "id": "f698e486",
   "metadata": {},
   "outputs": [
    {
     "data": {
      "text/html": [
       "<div>\n",
       "<style scoped>\n",
       "    .dataframe tbody tr th:only-of-type {\n",
       "        vertical-align: middle;\n",
       "    }\n",
       "\n",
       "    .dataframe tbody tr th {\n",
       "        vertical-align: top;\n",
       "    }\n",
       "\n",
       "    .dataframe thead th {\n",
       "        text-align: right;\n",
       "    }\n",
       "</style>\n",
       "<table border=\"1\" class=\"dataframe\">\n",
       "  <thead>\n",
       "    <tr style=\"text-align: right;\">\n",
       "      <th></th>\n",
       "      <th>YEAR</th>\n",
       "      <th>SAMPLE</th>\n",
       "      <th>SERIAL</th>\n",
       "      <th>CBSERIAL</th>\n",
       "      <th>HHWT</th>\n",
       "      <th>CLUSTER</th>\n",
       "      <th>STATEFIP</th>\n",
       "      <th>COUNTYFIP</th>\n",
       "      <th>STRATA</th>\n",
       "      <th>GQ</th>\n",
       "      <th>...</th>\n",
       "      <th>RACED</th>\n",
       "      <th>EDUC</th>\n",
       "      <th>EDUCD</th>\n",
       "      <th>EMPSTAT</th>\n",
       "      <th>EMPSTATD</th>\n",
       "      <th>OCC</th>\n",
       "      <th>IND</th>\n",
       "      <th>INCTOT</th>\n",
       "      <th>FTOTINC</th>\n",
       "      <th>POVERTY</th>\n",
       "    </tr>\n",
       "  </thead>\n",
       "  <tbody>\n",
       "    <tr>\n",
       "      <th>0</th>\n",
       "      <td>1990</td>\n",
       "      <td>199002</td>\n",
       "      <td>46452</td>\n",
       "      <td>NaN</td>\n",
       "      <td>52</td>\n",
       "      <td>1.990000e+12</td>\n",
       "      <td>6</td>\n",
       "      <td>0</td>\n",
       "      <td>57</td>\n",
       "      <td>1</td>\n",
       "      <td>...</td>\n",
       "      <td>700</td>\n",
       "      <td>0</td>\n",
       "      <td>2</td>\n",
       "      <td>3</td>\n",
       "      <td>30</td>\n",
       "      <td>0</td>\n",
       "      <td>0</td>\n",
       "      <td>3984</td>\n",
       "      <td>3984</td>\n",
       "      <td>53</td>\n",
       "    </tr>\n",
       "    <tr>\n",
       "      <th>1</th>\n",
       "      <td>1990</td>\n",
       "      <td>199002</td>\n",
       "      <td>46452</td>\n",
       "      <td>NaN</td>\n",
       "      <td>52</td>\n",
       "      <td>1.990000e+12</td>\n",
       "      <td>6</td>\n",
       "      <td>0</td>\n",
       "      <td>57</td>\n",
       "      <td>1</td>\n",
       "      <td>...</td>\n",
       "      <td>326</td>\n",
       "      <td>4</td>\n",
       "      <td>40</td>\n",
       "      <td>3</td>\n",
       "      <td>30</td>\n",
       "      <td>0</td>\n",
       "      <td>0</td>\n",
       "      <td>0</td>\n",
       "      <td>3984</td>\n",
       "      <td>53</td>\n",
       "    </tr>\n",
       "    <tr>\n",
       "      <th>2</th>\n",
       "      <td>1990</td>\n",
       "      <td>199002</td>\n",
       "      <td>46453</td>\n",
       "      <td>NaN</td>\n",
       "      <td>91</td>\n",
       "      <td>1.990000e+12</td>\n",
       "      <td>6</td>\n",
       "      <td>0</td>\n",
       "      <td>44</td>\n",
       "      <td>1</td>\n",
       "      <td>...</td>\n",
       "      <td>100</td>\n",
       "      <td>2</td>\n",
       "      <td>20</td>\n",
       "      <td>1</td>\n",
       "      <td>10</td>\n",
       "      <td>479</td>\n",
       "      <td>10</td>\n",
       "      <td>860</td>\n",
       "      <td>860</td>\n",
       "      <td>13</td>\n",
       "    </tr>\n",
       "    <tr>\n",
       "      <th>3</th>\n",
       "      <td>1990</td>\n",
       "      <td>199002</td>\n",
       "      <td>46454</td>\n",
       "      <td>NaN</td>\n",
       "      <td>117</td>\n",
       "      <td>1.990000e+12</td>\n",
       "      <td>6</td>\n",
       "      <td>0</td>\n",
       "      <td>53</td>\n",
       "      <td>1</td>\n",
       "      <td>...</td>\n",
       "      <td>100</td>\n",
       "      <td>3</td>\n",
       "      <td>30</td>\n",
       "      <td>3</td>\n",
       "      <td>30</td>\n",
       "      <td>0</td>\n",
       "      <td>0</td>\n",
       "      <td>13535</td>\n",
       "      <td>16929</td>\n",
       "      <td>226</td>\n",
       "    </tr>\n",
       "    <tr>\n",
       "      <th>4</th>\n",
       "      <td>1990</td>\n",
       "      <td>199002</td>\n",
       "      <td>46454</td>\n",
       "      <td>NaN</td>\n",
       "      <td>117</td>\n",
       "      <td>1.990000e+12</td>\n",
       "      <td>6</td>\n",
       "      <td>0</td>\n",
       "      <td>53</td>\n",
       "      <td>1</td>\n",
       "      <td>...</td>\n",
       "      <td>100</td>\n",
       "      <td>5</td>\n",
       "      <td>50</td>\n",
       "      <td>3</td>\n",
       "      <td>30</td>\n",
       "      <td>0</td>\n",
       "      <td>0</td>\n",
       "      <td>3394</td>\n",
       "      <td>16929</td>\n",
       "      <td>226</td>\n",
       "    </tr>\n",
       "  </tbody>\n",
       "</table>\n",
       "<p>5 rows × 37 columns</p>\n",
       "</div>"
      ],
      "text/plain": [
       "   YEAR  SAMPLE  SERIAL  CBSERIAL  HHWT       CLUSTER  STATEFIP  COUNTYFIP  \\\n",
       "0  1990  199002   46452       NaN    52  1.990000e+12         6          0   \n",
       "1  1990  199002   46452       NaN    52  1.990000e+12         6          0   \n",
       "2  1990  199002   46453       NaN    91  1.990000e+12         6          0   \n",
       "3  1990  199002   46454       NaN   117  1.990000e+12         6          0   \n",
       "4  1990  199002   46454       NaN   117  1.990000e+12         6          0   \n",
       "\n",
       "   STRATA  GQ  ...  RACED  EDUC  EDUCD  EMPSTAT  EMPSTATD  OCC  IND  INCTOT  \\\n",
       "0      57   1  ...    700     0      2        3        30    0    0    3984   \n",
       "1      57   1  ...    326     4     40        3        30    0    0       0   \n",
       "2      44   1  ...    100     2     20        1        10  479   10     860   \n",
       "3      53   1  ...    100     3     30        3        30    0    0   13535   \n",
       "4      53   1  ...    100     5     50        3        30    0    0    3394   \n",
       "\n",
       "   FTOTINC  POVERTY  \n",
       "0     3984       53  \n",
       "1     3984       53  \n",
       "2      860       13  \n",
       "3    16929      226  \n",
       "4    16929      226  \n",
       "\n",
       "[5 rows x 37 columns]"
      ]
     },
     "execution_count": 2,
     "metadata": {},
     "output_type": "execute_result"
    }
   ],
   "source": [
    "cali_1990_Metro1 = pd.read_csv('CA_Census_1990_Metro1.csv')\n",
    "cali_1990_Metro1.head()"
   ]
  },
  {
   "cell_type": "markdown",
   "id": "a28a89ac",
   "metadata": {},
   "source": [
    "**Check the number of rows and columns:**"
   ]
  },
  {
   "cell_type": "code",
   "execution_count": 3,
   "id": "887757b1",
   "metadata": {},
   "outputs": [
    {
     "data": {
      "text/plain": [
       "(290968, 37)"
      ]
     },
     "execution_count": 3,
     "metadata": {},
     "output_type": "execute_result"
    }
   ],
   "source": [
    "cali_1990_Metro1.shape"
   ]
  },
  {
   "cell_type": "markdown",
   "id": "0cae613f",
   "metadata": {},
   "source": [
    "**Check for missing values:**"
   ]
  },
  {
   "cell_type": "code",
   "execution_count": 4,
   "id": "7179e0df",
   "metadata": {},
   "outputs": [
    {
     "data": {
      "text/plain": [
       "CBSERIAL      290968\n",
       "COUPLETYPE    290968\n",
       "dtype: int64"
      ]
     },
     "execution_count": 4,
     "metadata": {},
     "output_type": "execute_result"
    }
   ],
   "source": [
    "cali_1990_Metro1.isna().sum()[cali_1990_Metro1.isna().sum() > 0]"
   ]
  },
  {
   "cell_type": "markdown",
   "id": "226ab98b",
   "metadata": {},
   "source": [
    "**Check for duplicate values:**"
   ]
  },
  {
   "cell_type": "code",
   "execution_count": 5,
   "id": "769cc01c",
   "metadata": {},
   "outputs": [
    {
     "data": {
      "text/plain": [
       "0"
      ]
     },
     "execution_count": 5,
     "metadata": {},
     "output_type": "execute_result"
    }
   ],
   "source": [
    "# Check for duplicate values\n",
    "cali_1990_Metro1.duplicated().sum()"
   ]
  },
  {
   "cell_type": "markdown",
   "id": "17f9fdf1",
   "metadata": {},
   "source": [
    "**Inspect the dataframe columns and than convert any data types that don't make logical sense:**"
   ]
  },
  {
   "cell_type": "code",
   "execution_count": 6,
   "id": "305f04a7",
   "metadata": {},
   "outputs": [
    {
     "name": "stdout",
     "output_type": "stream",
     "text": [
      "<class 'pandas.core.frame.DataFrame'>\n",
      "RangeIndex: 290968 entries, 0 to 290967\n",
      "Data columns (total 37 columns):\n",
      " #   Column      Non-Null Count   Dtype  \n",
      "---  ------      --------------   -----  \n",
      " 0   YEAR        290968 non-null  int64  \n",
      " 1   SAMPLE      290968 non-null  int64  \n",
      " 2   SERIAL      290968 non-null  int64  \n",
      " 3   CBSERIAL    0 non-null       float64\n",
      " 4   HHWT        290968 non-null  int64  \n",
      " 5   CLUSTER     290968 non-null  float64\n",
      " 6   STATEFIP    290968 non-null  int64  \n",
      " 7   COUNTYFIP   290968 non-null  int64  \n",
      " 8   STRATA      290968 non-null  int64  \n",
      " 9   GQ          290968 non-null  int64  \n",
      " 10  OWNERSHP    290968 non-null  int64  \n",
      " 11  OWNERSHPD   290968 non-null  int64  \n",
      " 12  MORTGAGE    290968 non-null  int64  \n",
      " 13  PROPINSR    290968 non-null  int64  \n",
      " 14  RENT        290968 non-null  int64  \n",
      " 15  COSTELEC    290968 non-null  int64  \n",
      " 16  COSTGAS     290968 non-null  int64  \n",
      " 17  HHINCOME    290968 non-null  int64  \n",
      " 18  VALUEH      290968 non-null  int64  \n",
      " 19  COUPLETYPE  0 non-null       float64\n",
      " 20  NFAMS       290968 non-null  int64  \n",
      " 21  PERNUM      290968 non-null  int64  \n",
      " 22  PERWT       290968 non-null  int64  \n",
      " 23  SEX         290968 non-null  int64  \n",
      " 24  AGE         290968 non-null  int64  \n",
      " 25  MARST       290968 non-null  int64  \n",
      " 26  RACE        290968 non-null  int64  \n",
      " 27  RACED       290968 non-null  int64  \n",
      " 28  EDUC        290968 non-null  int64  \n",
      " 29  EDUCD       290968 non-null  int64  \n",
      " 30  EMPSTAT     290968 non-null  int64  \n",
      " 31  EMPSTATD    290968 non-null  int64  \n",
      " 32  OCC         290968 non-null  int64  \n",
      " 33  IND         290968 non-null  int64  \n",
      " 34  INCTOT      290968 non-null  int64  \n",
      " 35  FTOTINC     290968 non-null  int64  \n",
      " 36  POVERTY     290968 non-null  int64  \n",
      "dtypes: float64(3), int64(34)\n",
      "memory usage: 82.1 MB\n"
     ]
    }
   ],
   "source": [
    "cali_1990_Metro1.info()"
   ]
  },
  {
   "cell_type": "markdown",
   "id": "13ce30f7",
   "metadata": {},
   "source": [
    "Data types are already appropriate, so no changes are necessary."
   ]
  },
  {
   "cell_type": "markdown",
   "id": "aa26de02",
   "metadata": {},
   "source": [
    "**Clean up the columns names by applying snake case format and renaming some columns to make them more clear:**"
   ]
  },
  {
   "cell_type": "code",
   "execution_count": 7,
   "id": "96d27144",
   "metadata": {},
   "outputs": [
    {
     "data": {
      "text/plain": [
       "Index(['year', 'sample', 'serial', 'cbserial', 'hh_wt', 'cluster', 'state_fip',\n",
       "       'countyfip', 'strata', 'group_quarters', 'ownershp', 'ownershpd',\n",
       "       'mortgage', 'prop_insr', 'rent', 'cost_elec', 'cost_gas', 'hh_income',\n",
       "       'house_val', 'coupletype', 'family_num', 'person_num', 'person_wt',\n",
       "       'sex', 'age', 'marst', 'race', 'raced', 'educ', 'educd', 'emp_stat',\n",
       "       'empl_statd', 'occ', 'ind', 'inctot', 'ftotinc', 'poverty'],\n",
       "      dtype='object')"
      ]
     },
     "execution_count": 7,
     "metadata": {},
     "output_type": "execute_result"
    }
   ],
   "source": [
    "cali_1990_Metro1.columns=cali_1990_Metro1.columns.str.lower()\n",
    "cali_1990_Metro1=cali_1990_Metro1.rename(columns={\n",
    "    'hhwt':'hh_wt',\n",
    "    'statefip':'state_fip',\n",
    "    'county_fip':'county_fip',\n",
    "    'gq':'group_quarters',\n",
    "    'propinsr':'prop_insr',\n",
    "    'costelec':'cost_elec',\n",
    "    'costgas':'cost_gas',\n",
    "    'hhincome':'hh_income',\n",
    "    'valueh':'house_val',\n",
    "    'nfams':'family_num',\n",
    "    'hhwt':'hh_wt',\n",
    "    'pernum':'person_num',\n",
    "    'perwt':'person_wt',\n",
    "    'empstat':'emp_stat',\n",
    "    'empstatd':'empl_statd'\n",
    "    \n",
    "})\n",
    "cali_1990_Metro1.columns"
   ]
  },
  {
   "cell_type": "markdown",
   "id": "3c3f59d3",
   "metadata": {},
   "source": [
    "**Add the cleaned file to the directory so we can make a combined dataframe for analysis purposes:**"
   ]
  },
  {
   "cell_type": "code",
   "execution_count": 8,
   "id": "f3dd2143",
   "metadata": {},
   "outputs": [],
   "source": [
    "cali_1990_Metro1.to_csv('Cleaned_CA_Census_1990.csv', index=False)"
   ]
  },
  {
   "cell_type": "markdown",
   "id": "bb3ea2be",
   "metadata": {},
   "source": [
    "## Data cleaning/preparation steps repeated for each of the subsequent datasets"
   ]
  },
  {
   "cell_type": "markdown",
   "id": "5c21a67c",
   "metadata": {},
   "source": [
    "### Import ACS 2000 1-Year Data:"
   ]
  },
  {
   "cell_type": "code",
   "execution_count": 9,
   "id": "61790453",
   "metadata": {},
   "outputs": [
    {
     "data": {
      "text/html": [
       "<div>\n",
       "<style scoped>\n",
       "    .dataframe tbody tr th:only-of-type {\n",
       "        vertical-align: middle;\n",
       "    }\n",
       "\n",
       "    .dataframe tbody tr th {\n",
       "        vertical-align: top;\n",
       "    }\n",
       "\n",
       "    .dataframe thead th {\n",
       "        text-align: right;\n",
       "    }\n",
       "</style>\n",
       "<table border=\"1\" class=\"dataframe\">\n",
       "  <thead>\n",
       "    <tr style=\"text-align: right;\">\n",
       "      <th></th>\n",
       "      <th>YEAR</th>\n",
       "      <th>SAMPLE</th>\n",
       "      <th>SERIAL</th>\n",
       "      <th>CBSERIAL</th>\n",
       "      <th>HHWT</th>\n",
       "      <th>CLUSTER</th>\n",
       "      <th>STATEFIP</th>\n",
       "      <th>COUNTYFIP</th>\n",
       "      <th>STRATA</th>\n",
       "      <th>GQ</th>\n",
       "      <th>...</th>\n",
       "      <th>RACED</th>\n",
       "      <th>EDUC</th>\n",
       "      <th>EDUCD</th>\n",
       "      <th>EMPSTAT</th>\n",
       "      <th>EMPSTATD</th>\n",
       "      <th>OCC</th>\n",
       "      <th>IND</th>\n",
       "      <th>INCTOT</th>\n",
       "      <th>FTOTINC</th>\n",
       "      <th>POVERTY</th>\n",
       "    </tr>\n",
       "  </thead>\n",
       "  <tbody>\n",
       "    <tr>\n",
       "      <th>0</th>\n",
       "      <td>2000</td>\n",
       "      <td>200004</td>\n",
       "      <td>7</td>\n",
       "      <td>NaN</td>\n",
       "      <td>600</td>\n",
       "      <td>2.000000e+12</td>\n",
       "      <td>6</td>\n",
       "      <td>NaN</td>\n",
       "      <td>6</td>\n",
       "      <td>1</td>\n",
       "      <td>...</td>\n",
       "      <td>100</td>\n",
       "      <td>10</td>\n",
       "      <td>101</td>\n",
       "      <td>1</td>\n",
       "      <td>10</td>\n",
       "      <td>330</td>\n",
       "      <td>819</td>\n",
       "      <td>52000</td>\n",
       "      <td>177000</td>\n",
       "      <td>501</td>\n",
       "    </tr>\n",
       "    <tr>\n",
       "      <th>1</th>\n",
       "      <td>2000</td>\n",
       "      <td>200004</td>\n",
       "      <td>7</td>\n",
       "      <td>NaN</td>\n",
       "      <td>600</td>\n",
       "      <td>2.000000e+12</td>\n",
       "      <td>6</td>\n",
       "      <td>NaN</td>\n",
       "      <td>6</td>\n",
       "      <td>1</td>\n",
       "      <td>...</td>\n",
       "      <td>100</td>\n",
       "      <td>11</td>\n",
       "      <td>114</td>\n",
       "      <td>1</td>\n",
       "      <td>10</td>\n",
       "      <td>260</td>\n",
       "      <td>657</td>\n",
       "      <td>125000</td>\n",
       "      <td>177000</td>\n",
       "      <td>501</td>\n",
       "    </tr>\n",
       "    <tr>\n",
       "      <th>2</th>\n",
       "      <td>2000</td>\n",
       "      <td>200004</td>\n",
       "      <td>21</td>\n",
       "      <td>NaN</td>\n",
       "      <td>1800</td>\n",
       "      <td>2.000000e+12</td>\n",
       "      <td>6</td>\n",
       "      <td>NaN</td>\n",
       "      <td>6</td>\n",
       "      <td>1</td>\n",
       "      <td>...</td>\n",
       "      <td>700</td>\n",
       "      <td>6</td>\n",
       "      <td>62</td>\n",
       "      <td>1</td>\n",
       "      <td>10</td>\n",
       "      <td>524</td>\n",
       "      <td>639</td>\n",
       "      <td>6000</td>\n",
       "      <td>6000</td>\n",
       "      <td>44</td>\n",
       "    </tr>\n",
       "    <tr>\n",
       "      <th>3</th>\n",
       "      <td>2000</td>\n",
       "      <td>200004</td>\n",
       "      <td>21</td>\n",
       "      <td>NaN</td>\n",
       "      <td>1800</td>\n",
       "      <td>2.000000e+12</td>\n",
       "      <td>6</td>\n",
       "      <td>NaN</td>\n",
       "      <td>6</td>\n",
       "      <td>1</td>\n",
       "      <td>...</td>\n",
       "      <td>700</td>\n",
       "      <td>0</td>\n",
       "      <td>1</td>\n",
       "      <td>0</td>\n",
       "      <td>0</td>\n",
       "      <td>0</td>\n",
       "      <td>0</td>\n",
       "      <td>9999999</td>\n",
       "      <td>6000</td>\n",
       "      <td>44</td>\n",
       "    </tr>\n",
       "    <tr>\n",
       "      <th>4</th>\n",
       "      <td>2000</td>\n",
       "      <td>200004</td>\n",
       "      <td>21</td>\n",
       "      <td>NaN</td>\n",
       "      <td>1800</td>\n",
       "      <td>2.000000e+12</td>\n",
       "      <td>6</td>\n",
       "      <td>NaN</td>\n",
       "      <td>6</td>\n",
       "      <td>1</td>\n",
       "      <td>...</td>\n",
       "      <td>700</td>\n",
       "      <td>1</td>\n",
       "      <td>10</td>\n",
       "      <td>0</td>\n",
       "      <td>0</td>\n",
       "      <td>0</td>\n",
       "      <td>0</td>\n",
       "      <td>9999999</td>\n",
       "      <td>6000</td>\n",
       "      <td>44</td>\n",
       "    </tr>\n",
       "  </tbody>\n",
       "</table>\n",
       "<p>5 rows × 37 columns</p>\n",
       "</div>"
      ],
      "text/plain": [
       "   YEAR  SAMPLE  SERIAL  CBSERIAL  HHWT       CLUSTER  STATEFIP  COUNTYFIP  \\\n",
       "0  2000  200004       7       NaN   600  2.000000e+12         6        NaN   \n",
       "1  2000  200004       7       NaN   600  2.000000e+12         6        NaN   \n",
       "2  2000  200004      21       NaN  1800  2.000000e+12         6        NaN   \n",
       "3  2000  200004      21       NaN  1800  2.000000e+12         6        NaN   \n",
       "4  2000  200004      21       NaN  1800  2.000000e+12         6        NaN   \n",
       "\n",
       "   STRATA  GQ  ...  RACED  EDUC  EDUCD  EMPSTAT  EMPSTATD  OCC  IND   INCTOT  \\\n",
       "0       6   1  ...    100    10    101        1        10  330  819    52000   \n",
       "1       6   1  ...    100    11    114        1        10  260  657   125000   \n",
       "2       6   1  ...    700     6     62        1        10  524  639     6000   \n",
       "3       6   1  ...    700     0      1        0         0    0    0  9999999   \n",
       "4       6   1  ...    700     1     10        0         0    0    0  9999999   \n",
       "\n",
       "   FTOTINC  POVERTY  \n",
       "0   177000      501  \n",
       "1   177000      501  \n",
       "2     6000       44  \n",
       "3     6000       44  \n",
       "4     6000       44  \n",
       "\n",
       "[5 rows x 37 columns]"
      ]
     },
     "execution_count": 9,
     "metadata": {},
     "output_type": "execute_result"
    }
   ],
   "source": [
    "cali_2000_ACS1 = pd.read_csv('CA_Census_2000_ACS1.csv')\n",
    "cali_2000_ACS1.head()"
   ]
  },
  {
   "cell_type": "code",
   "execution_count": 10,
   "id": "32c79717",
   "metadata": {},
   "outputs": [
    {
     "data": {
      "text/plain": [
       "(38143, 37)"
      ]
     },
     "execution_count": 10,
     "metadata": {},
     "output_type": "execute_result"
    }
   ],
   "source": [
    "cali_2000_ACS1.shape"
   ]
  },
  {
   "cell_type": "code",
   "execution_count": 11,
   "id": "6103a990",
   "metadata": {},
   "outputs": [
    {
     "data": {
      "text/plain": [
       "CBSERIAL      38143\n",
       "COUNTYFIP     38143\n",
       "COUPLETYPE    38143\n",
       "dtype: int64"
      ]
     },
     "execution_count": 11,
     "metadata": {},
     "output_type": "execute_result"
    }
   ],
   "source": [
    "cali_2000_ACS1.isna().sum()[cali_2000_ACS1.isna().sum() > 0]"
   ]
  },
  {
   "cell_type": "code",
   "execution_count": 12,
   "id": "a0c83acd",
   "metadata": {},
   "outputs": [
    {
     "data": {
      "text/plain": [
       "0"
      ]
     },
     "execution_count": 12,
     "metadata": {},
     "output_type": "execute_result"
    }
   ],
   "source": [
    "cali_2000_ACS1.duplicated().sum()"
   ]
  },
  {
   "cell_type": "code",
   "execution_count": 13,
   "id": "d9038654",
   "metadata": {},
   "outputs": [
    {
     "name": "stdout",
     "output_type": "stream",
     "text": [
      "<class 'pandas.core.frame.DataFrame'>\n",
      "RangeIndex: 38143 entries, 0 to 38142\n",
      "Data columns (total 37 columns):\n",
      " #   Column      Non-Null Count  Dtype  \n",
      "---  ------      --------------  -----  \n",
      " 0   YEAR        38143 non-null  int64  \n",
      " 1   SAMPLE      38143 non-null  int64  \n",
      " 2   SERIAL      38143 non-null  int64  \n",
      " 3   CBSERIAL    0 non-null      float64\n",
      " 4   HHWT        38143 non-null  int64  \n",
      " 5   CLUSTER     38143 non-null  float64\n",
      " 6   STATEFIP    38143 non-null  int64  \n",
      " 7   COUNTYFIP   0 non-null      float64\n",
      " 8   STRATA      38143 non-null  int64  \n",
      " 9   GQ          38143 non-null  int64  \n",
      " 10  OWNERSHP    38143 non-null  int64  \n",
      " 11  OWNERSHPD   38143 non-null  int64  \n",
      " 12  MORTGAGE    38143 non-null  int64  \n",
      " 13  PROPINSR    38143 non-null  int64  \n",
      " 14  RENT        38143 non-null  int64  \n",
      " 15  COSTELEC    38143 non-null  int64  \n",
      " 16  COSTGAS     38143 non-null  int64  \n",
      " 17  HHINCOME    38143 non-null  int64  \n",
      " 18  VALUEH      38143 non-null  int64  \n",
      " 19  COUPLETYPE  0 non-null      float64\n",
      " 20  NFAMS       38143 non-null  int64  \n",
      " 21  PERNUM      38143 non-null  int64  \n",
      " 22  PERWT       38143 non-null  int64  \n",
      " 23  SEX         38143 non-null  int64  \n",
      " 24  AGE         38143 non-null  int64  \n",
      " 25  MARST       38143 non-null  int64  \n",
      " 26  RACE        38143 non-null  int64  \n",
      " 27  RACED       38143 non-null  int64  \n",
      " 28  EDUC        38143 non-null  int64  \n",
      " 29  EDUCD       38143 non-null  int64  \n",
      " 30  EMPSTAT     38143 non-null  int64  \n",
      " 31  EMPSTATD    38143 non-null  int64  \n",
      " 32  OCC         38143 non-null  int64  \n",
      " 33  IND         38143 non-null  int64  \n",
      " 34  INCTOT      38143 non-null  int64  \n",
      " 35  FTOTINC     38143 non-null  int64  \n",
      " 36  POVERTY     38143 non-null  int64  \n",
      "dtypes: float64(4), int64(33)\n",
      "memory usage: 10.8 MB\n"
     ]
    }
   ],
   "source": [
    "cali_2000_ACS1.info()"
   ]
  },
  {
   "cell_type": "markdown",
   "id": "664c35bb",
   "metadata": {},
   "source": [
    "Data types are already appropriate, so no changes are necessary."
   ]
  },
  {
   "cell_type": "code",
   "execution_count": 14,
   "id": "2429f402",
   "metadata": {},
   "outputs": [
    {
     "data": {
      "text/plain": [
       "Index(['year', 'sample', 'serial', 'cbserial', 'hh_wt', 'cluster', 'state_fip',\n",
       "       'countyfip', 'strata', 'group_quarters', 'ownershp', 'ownershpd',\n",
       "       'mortgage', 'prop_insr', 'rent', 'cost_elec', 'cost_gas', 'hh_income',\n",
       "       'house_val', 'coupletype', 'family_num', 'person_num', 'person_wt',\n",
       "       'sex', 'age', 'marst', 'race', 'raced', 'educ', 'educd', 'emp_stat',\n",
       "       'empl_statd', 'occ', 'ind', 'inctot', 'ftotinc', 'poverty'],\n",
       "      dtype='object')"
      ]
     },
     "execution_count": 14,
     "metadata": {},
     "output_type": "execute_result"
    }
   ],
   "source": [
    "cali_2000_ACS1.columns=cali_2000_ACS1.columns.str.lower()\n",
    "cali_2000_ACS1=cali_2000_ACS1.rename(columns={\n",
    "    'hhwt':'hh_wt',\n",
    "    'statefip':'state_fip',\n",
    "    'county_fip':'county_fip',\n",
    "    'gq':'group_quarters',\n",
    "    'propinsr':'prop_insr',\n",
    "    'costelec':'cost_elec',\n",
    "    'costgas':'cost_gas',\n",
    "    'hhincome':'hh_income',\n",
    "    'valueh':'house_val',\n",
    "    'nfams':'family_num',\n",
    "    'hhwt':'hh_wt',\n",
    "    'pernum':'person_num',\n",
    "    'perwt':'person_wt',\n",
    "    'empstat':'emp_stat',\n",
    "    'empstatd':'empl_statd'  \n",
    "})\n",
    "cali_2000_ACS1.columns"
   ]
  },
  {
   "cell_type": "code",
   "execution_count": 15,
   "id": "89b166cf",
   "metadata": {},
   "outputs": [],
   "source": [
    "cali_2000_ACS1.to_csv('Cleaned_CA_Census_2000.csv', index=False)"
   ]
  },
  {
   "cell_type": "markdown",
   "id": "d414ed78",
   "metadata": {},
   "source": [
    "### Import ACS 2006 1-Year Data:"
   ]
  },
  {
   "cell_type": "code",
   "execution_count": 16,
   "id": "104769b6",
   "metadata": {},
   "outputs": [
    {
     "data": {
      "text/html": [
       "<div>\n",
       "<style scoped>\n",
       "    .dataframe tbody tr th:only-of-type {\n",
       "        vertical-align: middle;\n",
       "    }\n",
       "\n",
       "    .dataframe tbody tr th {\n",
       "        vertical-align: top;\n",
       "    }\n",
       "\n",
       "    .dataframe thead th {\n",
       "        text-align: right;\n",
       "    }\n",
       "</style>\n",
       "<table border=\"1\" class=\"dataframe\">\n",
       "  <thead>\n",
       "    <tr style=\"text-align: right;\">\n",
       "      <th></th>\n",
       "      <th>YEAR</th>\n",
       "      <th>SAMPLE</th>\n",
       "      <th>SERIAL</th>\n",
       "      <th>CBSERIAL</th>\n",
       "      <th>HHWT</th>\n",
       "      <th>CLUSTER</th>\n",
       "      <th>STATEFIP</th>\n",
       "      <th>COUNTYFIP</th>\n",
       "      <th>STRATA</th>\n",
       "      <th>GQ</th>\n",
       "      <th>...</th>\n",
       "      <th>RACED</th>\n",
       "      <th>EDUC</th>\n",
       "      <th>EDUCD</th>\n",
       "      <th>EMPSTAT</th>\n",
       "      <th>EMPSTATD</th>\n",
       "      <th>OCC</th>\n",
       "      <th>IND</th>\n",
       "      <th>INCTOT</th>\n",
       "      <th>FTOTINC</th>\n",
       "      <th>POVERTY</th>\n",
       "    </tr>\n",
       "  </thead>\n",
       "  <tbody>\n",
       "    <tr>\n",
       "      <th>0</th>\n",
       "      <td>2006</td>\n",
       "      <td>200601</td>\n",
       "      <td>65922</td>\n",
       "      <td>1</td>\n",
       "      <td>113</td>\n",
       "      <td>2.006000e+12</td>\n",
       "      <td>6</td>\n",
       "      <td>85</td>\n",
       "      <td>271006</td>\n",
       "      <td>1</td>\n",
       "      <td>...</td>\n",
       "      <td>100</td>\n",
       "      <td>6</td>\n",
       "      <td>62</td>\n",
       "      <td>2</td>\n",
       "      <td>20</td>\n",
       "      <td>9120</td>\n",
       "      <td>6180</td>\n",
       "      <td>41500</td>\n",
       "      <td>45700</td>\n",
       "      <td>381</td>\n",
       "    </tr>\n",
       "    <tr>\n",
       "      <th>1</th>\n",
       "      <td>2006</td>\n",
       "      <td>200601</td>\n",
       "      <td>65922</td>\n",
       "      <td>1</td>\n",
       "      <td>113</td>\n",
       "      <td>2.006000e+12</td>\n",
       "      <td>6</td>\n",
       "      <td>85</td>\n",
       "      <td>271006</td>\n",
       "      <td>1</td>\n",
       "      <td>...</td>\n",
       "      <td>100</td>\n",
       "      <td>2</td>\n",
       "      <td>21</td>\n",
       "      <td>3</td>\n",
       "      <td>30</td>\n",
       "      <td>5700</td>\n",
       "      <td>7690</td>\n",
       "      <td>4200</td>\n",
       "      <td>45700</td>\n",
       "      <td>381</td>\n",
       "    </tr>\n",
       "    <tr>\n",
       "      <th>2</th>\n",
       "      <td>2006</td>\n",
       "      <td>200601</td>\n",
       "      <td>65923</td>\n",
       "      <td>2</td>\n",
       "      <td>65</td>\n",
       "      <td>2.006000e+12</td>\n",
       "      <td>6</td>\n",
       "      <td>37</td>\n",
       "      <td>541606</td>\n",
       "      <td>1</td>\n",
       "      <td>...</td>\n",
       "      <td>100</td>\n",
       "      <td>7</td>\n",
       "      <td>71</td>\n",
       "      <td>1</td>\n",
       "      <td>10</td>\n",
       "      <td>5700</td>\n",
       "      <td>7590</td>\n",
       "      <td>14880</td>\n",
       "      <td>23880</td>\n",
       "      <td>119</td>\n",
       "    </tr>\n",
       "    <tr>\n",
       "      <th>3</th>\n",
       "      <td>2006</td>\n",
       "      <td>200601</td>\n",
       "      <td>65923</td>\n",
       "      <td>2</td>\n",
       "      <td>65</td>\n",
       "      <td>2.006000e+12</td>\n",
       "      <td>6</td>\n",
       "      <td>37</td>\n",
       "      <td>541606</td>\n",
       "      <td>1</td>\n",
       "      <td>...</td>\n",
       "      <td>100</td>\n",
       "      <td>1</td>\n",
       "      <td>10</td>\n",
       "      <td>0</td>\n",
       "      <td>0</td>\n",
       "      <td>0</td>\n",
       "      <td>0</td>\n",
       "      <td>9999999</td>\n",
       "      <td>23880</td>\n",
       "      <td>119</td>\n",
       "    </tr>\n",
       "    <tr>\n",
       "      <th>4</th>\n",
       "      <td>2006</td>\n",
       "      <td>200601</td>\n",
       "      <td>65923</td>\n",
       "      <td>2</td>\n",
       "      <td>65</td>\n",
       "      <td>2.006000e+12</td>\n",
       "      <td>6</td>\n",
       "      <td>37</td>\n",
       "      <td>541606</td>\n",
       "      <td>1</td>\n",
       "      <td>...</td>\n",
       "      <td>100</td>\n",
       "      <td>1</td>\n",
       "      <td>10</td>\n",
       "      <td>0</td>\n",
       "      <td>0</td>\n",
       "      <td>0</td>\n",
       "      <td>0</td>\n",
       "      <td>9999999</td>\n",
       "      <td>23880</td>\n",
       "      <td>119</td>\n",
       "    </tr>\n",
       "  </tbody>\n",
       "</table>\n",
       "<p>5 rows × 37 columns</p>\n",
       "</div>"
      ],
      "text/plain": [
       "   YEAR  SAMPLE  SERIAL  CBSERIAL  HHWT       CLUSTER  STATEFIP  COUNTYFIP  \\\n",
       "0  2006  200601   65922         1   113  2.006000e+12         6         85   \n",
       "1  2006  200601   65922         1   113  2.006000e+12         6         85   \n",
       "2  2006  200601   65923         2    65  2.006000e+12         6         37   \n",
       "3  2006  200601   65923         2    65  2.006000e+12         6         37   \n",
       "4  2006  200601   65923         2    65  2.006000e+12         6         37   \n",
       "\n",
       "   STRATA  GQ  ...  RACED  EDUC  EDUCD  EMPSTAT  EMPSTATD   OCC   IND  \\\n",
       "0  271006   1  ...    100     6     62        2        20  9120  6180   \n",
       "1  271006   1  ...    100     2     21        3        30  5700  7690   \n",
       "2  541606   1  ...    100     7     71        1        10  5700  7590   \n",
       "3  541606   1  ...    100     1     10        0         0     0     0   \n",
       "4  541606   1  ...    100     1     10        0         0     0     0   \n",
       "\n",
       "    INCTOT  FTOTINC  POVERTY  \n",
       "0    41500    45700      381  \n",
       "1     4200    45700      381  \n",
       "2    14880    23880      119  \n",
       "3  9999999    23880      119  \n",
       "4  9999999    23880      119  \n",
       "\n",
       "[5 rows x 37 columns]"
      ]
     },
     "execution_count": 16,
     "metadata": {},
     "output_type": "execute_result"
    }
   ],
   "source": [
    "cali_2006_ACS1 = pd.read_csv('CA_Census_2006_ACS1.csv')\n",
    "cali_2006_ACS1.head()"
   ]
  },
  {
   "cell_type": "code",
   "execution_count": 17,
   "id": "5ce264c9",
   "metadata": {},
   "outputs": [
    {
     "data": {
      "text/plain": [
       "(345723, 37)"
      ]
     },
     "execution_count": 17,
     "metadata": {},
     "output_type": "execute_result"
    }
   ],
   "source": [
    "cali_2006_ACS1.shape"
   ]
  },
  {
   "cell_type": "code",
   "execution_count": 18,
   "id": "6a4f1b07",
   "metadata": {},
   "outputs": [
    {
     "data": {
      "text/plain": [
       "COUPLETYPE    345723\n",
       "dtype: int64"
      ]
     },
     "execution_count": 18,
     "metadata": {},
     "output_type": "execute_result"
    }
   ],
   "source": [
    "cali_2006_ACS1.isna().sum()[cali_2006_ACS1.isna().sum() > 0]"
   ]
  },
  {
   "cell_type": "code",
   "execution_count": 19,
   "id": "e35ab7fb",
   "metadata": {},
   "outputs": [
    {
     "data": {
      "text/plain": [
       "0"
      ]
     },
     "execution_count": 19,
     "metadata": {},
     "output_type": "execute_result"
    }
   ],
   "source": [
    "cali_2006_ACS1.duplicated().sum()"
   ]
  },
  {
   "cell_type": "code",
   "execution_count": 20,
   "id": "0f3afe87",
   "metadata": {},
   "outputs": [
    {
     "name": "stdout",
     "output_type": "stream",
     "text": [
      "<class 'pandas.core.frame.DataFrame'>\n",
      "RangeIndex: 345723 entries, 0 to 345722\n",
      "Data columns (total 37 columns):\n",
      " #   Column      Non-Null Count   Dtype  \n",
      "---  ------      --------------   -----  \n",
      " 0   YEAR        345723 non-null  int64  \n",
      " 1   SAMPLE      345723 non-null  int64  \n",
      " 2   SERIAL      345723 non-null  int64  \n",
      " 3   CBSERIAL    345723 non-null  int64  \n",
      " 4   HHWT        345723 non-null  int64  \n",
      " 5   CLUSTER     345723 non-null  float64\n",
      " 6   STATEFIP    345723 non-null  int64  \n",
      " 7   COUNTYFIP   345723 non-null  int64  \n",
      " 8   STRATA      345723 non-null  int64  \n",
      " 9   GQ          345723 non-null  int64  \n",
      " 10  OWNERSHP    345723 non-null  int64  \n",
      " 11  OWNERSHPD   345723 non-null  int64  \n",
      " 12  MORTGAGE    345723 non-null  int64  \n",
      " 13  PROPINSR    345723 non-null  int64  \n",
      " 14  RENT        345723 non-null  int64  \n",
      " 15  COSTELEC    345723 non-null  int64  \n",
      " 16  COSTGAS     345723 non-null  int64  \n",
      " 17  HHINCOME    345723 non-null  int64  \n",
      " 18  VALUEH      345723 non-null  int64  \n",
      " 19  COUPLETYPE  0 non-null       float64\n",
      " 20  NFAMS       345723 non-null  int64  \n",
      " 21  PERNUM      345723 non-null  int64  \n",
      " 22  PERWT       345723 non-null  int64  \n",
      " 23  SEX         345723 non-null  int64  \n",
      " 24  AGE         345723 non-null  int64  \n",
      " 25  MARST       345723 non-null  int64  \n",
      " 26  RACE        345723 non-null  int64  \n",
      " 27  RACED       345723 non-null  int64  \n",
      " 28  EDUC        345723 non-null  int64  \n",
      " 29  EDUCD       345723 non-null  int64  \n",
      " 30  EMPSTAT     345723 non-null  int64  \n",
      " 31  EMPSTATD    345723 non-null  int64  \n",
      " 32  OCC         345723 non-null  int64  \n",
      " 33  IND         345723 non-null  int64  \n",
      " 34  INCTOT      345723 non-null  int64  \n",
      " 35  FTOTINC     345723 non-null  int64  \n",
      " 36  POVERTY     345723 non-null  int64  \n",
      "dtypes: float64(2), int64(35)\n",
      "memory usage: 97.6 MB\n"
     ]
    }
   ],
   "source": [
    "cali_2006_ACS1.info()"
   ]
  },
  {
   "cell_type": "markdown",
   "id": "91a94802",
   "metadata": {},
   "source": [
    "Data types are already appropriate, so no changes are necessary."
   ]
  },
  {
   "cell_type": "code",
   "execution_count": 21,
   "id": "780ebb1b",
   "metadata": {},
   "outputs": [
    {
     "data": {
      "text/plain": [
       "Index(['year', 'sample', 'serial', 'cbserial', 'hh_wt', 'cluster', 'state_fip',\n",
       "       'countyfip', 'strata', 'group_quarters', 'ownershp', 'ownershpd',\n",
       "       'mortgage', 'prop_insr', 'rent', 'cost_elec', 'cost_gas', 'hh_income',\n",
       "       'house_val', 'coupletype', 'family_num', 'person_num', 'person_wt',\n",
       "       'sex', 'age', 'marst', 'race', 'raced', 'educ', 'educd', 'emp_stat',\n",
       "       'empl_statd', 'occ', 'ind', 'inctot', 'ftotinc', 'poverty'],\n",
       "      dtype='object')"
      ]
     },
     "execution_count": 21,
     "metadata": {},
     "output_type": "execute_result"
    }
   ],
   "source": [
    "cali_2006_ACS1.columns=cali_2006_ACS1.columns.str.lower()\n",
    "cali_2006_ACS1=cali_2006_ACS1.rename(columns={\n",
    "    'hhwt':'hh_wt',\n",
    "    'statefip':'state_fip',\n",
    "    'county_fip':'county_fip',\n",
    "    'gq':'group_quarters',\n",
    "    'propinsr':'prop_insr',\n",
    "    'costelec':'cost_elec',\n",
    "    'costgas':'cost_gas',\n",
    "    'hhincome':'hh_income',\n",
    "    'valueh':'house_val',\n",
    "    'nfams':'family_num',\n",
    "    'hhwt':'hh_wt',\n",
    "    'pernum':'person_num',\n",
    "    'perwt':'person_wt',\n",
    "    'empstat':'emp_stat',\n",
    "    'empstatd':'empl_statd'  \n",
    "})\n",
    "cali_2006_ACS1.columns"
   ]
  },
  {
   "cell_type": "code",
   "execution_count": 22,
   "id": "f73ee498",
   "metadata": {},
   "outputs": [],
   "source": [
    "cali_2006_ACS1.to_csv('Cleaned_CA_Census_2006.csv', index=False)"
   ]
  },
  {
   "cell_type": "markdown",
   "id": "b06618c8",
   "metadata": {},
   "source": [
    "### Import ACS 2011 1-Year Data:"
   ]
  },
  {
   "cell_type": "code",
   "execution_count": 23,
   "id": "331dec88",
   "metadata": {},
   "outputs": [
    {
     "data": {
      "text/html": [
       "<div>\n",
       "<style scoped>\n",
       "    .dataframe tbody tr th:only-of-type {\n",
       "        vertical-align: middle;\n",
       "    }\n",
       "\n",
       "    .dataframe tbody tr th {\n",
       "        vertical-align: top;\n",
       "    }\n",
       "\n",
       "    .dataframe thead th {\n",
       "        text-align: right;\n",
       "    }\n",
       "</style>\n",
       "<table border=\"1\" class=\"dataframe\">\n",
       "  <thead>\n",
       "    <tr style=\"text-align: right;\">\n",
       "      <th></th>\n",
       "      <th>YEAR</th>\n",
       "      <th>SAMPLE</th>\n",
       "      <th>SERIAL</th>\n",
       "      <th>CBSERIAL</th>\n",
       "      <th>HHWT</th>\n",
       "      <th>CLUSTER</th>\n",
       "      <th>STATEFIP</th>\n",
       "      <th>COUNTYFIP</th>\n",
       "      <th>STRATA</th>\n",
       "      <th>GQ</th>\n",
       "      <th>...</th>\n",
       "      <th>RACED</th>\n",
       "      <th>EDUC</th>\n",
       "      <th>EDUCD</th>\n",
       "      <th>EMPSTAT</th>\n",
       "      <th>EMPSTATD</th>\n",
       "      <th>OCC</th>\n",
       "      <th>IND</th>\n",
       "      <th>INCTOT</th>\n",
       "      <th>FTOTINC</th>\n",
       "      <th>POVERTY</th>\n",
       "    </tr>\n",
       "  </thead>\n",
       "  <tbody>\n",
       "    <tr>\n",
       "      <th>0</th>\n",
       "      <td>2011</td>\n",
       "      <td>201101</td>\n",
       "      <td>66400</td>\n",
       "      <td>9</td>\n",
       "      <td>55.0</td>\n",
       "      <td>2011000664001</td>\n",
       "      <td>6</td>\n",
       "      <td>0</td>\n",
       "      <td>80006</td>\n",
       "      <td>1</td>\n",
       "      <td>...</td>\n",
       "      <td>700</td>\n",
       "      <td>6</td>\n",
       "      <td>63</td>\n",
       "      <td>1</td>\n",
       "      <td>10</td>\n",
       "      <td>3645</td>\n",
       "      <td>8090</td>\n",
       "      <td>24000</td>\n",
       "      <td>74000</td>\n",
       "      <td>500</td>\n",
       "    </tr>\n",
       "    <tr>\n",
       "      <th>1</th>\n",
       "      <td>2011</td>\n",
       "      <td>201101</td>\n",
       "      <td>66400</td>\n",
       "      <td>9</td>\n",
       "      <td>55.0</td>\n",
       "      <td>2011000664001</td>\n",
       "      <td>6</td>\n",
       "      <td>0</td>\n",
       "      <td>80006</td>\n",
       "      <td>1</td>\n",
       "      <td>...</td>\n",
       "      <td>700</td>\n",
       "      <td>6</td>\n",
       "      <td>65</td>\n",
       "      <td>1</td>\n",
       "      <td>10</td>\n",
       "      <td>9130</td>\n",
       "      <td>4580</td>\n",
       "      <td>50000</td>\n",
       "      <td>74000</td>\n",
       "      <td>500</td>\n",
       "    </tr>\n",
       "    <tr>\n",
       "      <th>2</th>\n",
       "      <td>2011</td>\n",
       "      <td>201101</td>\n",
       "      <td>66401</td>\n",
       "      <td>13</td>\n",
       "      <td>36.0</td>\n",
       "      <td>2011000664011</td>\n",
       "      <td>6</td>\n",
       "      <td>37</td>\n",
       "      <td>611306</td>\n",
       "      <td>1</td>\n",
       "      <td>...</td>\n",
       "      <td>700</td>\n",
       "      <td>6</td>\n",
       "      <td>65</td>\n",
       "      <td>1</td>\n",
       "      <td>10</td>\n",
       "      <td>5700</td>\n",
       "      <td>6990</td>\n",
       "      <td>29300</td>\n",
       "      <td>29300</td>\n",
       "      <td>255</td>\n",
       "    </tr>\n",
       "    <tr>\n",
       "      <th>3</th>\n",
       "      <td>2011</td>\n",
       "      <td>201101</td>\n",
       "      <td>66402</td>\n",
       "      <td>33</td>\n",
       "      <td>54.0</td>\n",
       "      <td>2011000664021</td>\n",
       "      <td>6</td>\n",
       "      <td>0</td>\n",
       "      <td>80006</td>\n",
       "      <td>1</td>\n",
       "      <td>...</td>\n",
       "      <td>610</td>\n",
       "      <td>6</td>\n",
       "      <td>61</td>\n",
       "      <td>1</td>\n",
       "      <td>10</td>\n",
       "      <td>4720</td>\n",
       "      <td>4980</td>\n",
       "      <td>12600</td>\n",
       "      <td>12600</td>\n",
       "      <td>85</td>\n",
       "    </tr>\n",
       "    <tr>\n",
       "      <th>4</th>\n",
       "      <td>2011</td>\n",
       "      <td>201101</td>\n",
       "      <td>66402</td>\n",
       "      <td>33</td>\n",
       "      <td>54.0</td>\n",
       "      <td>2011000664021</td>\n",
       "      <td>6</td>\n",
       "      <td>0</td>\n",
       "      <td>80006</td>\n",
       "      <td>1</td>\n",
       "      <td>...</td>\n",
       "      <td>100</td>\n",
       "      <td>5</td>\n",
       "      <td>50</td>\n",
       "      <td>3</td>\n",
       "      <td>30</td>\n",
       "      <td>0</td>\n",
       "      <td>0</td>\n",
       "      <td>0</td>\n",
       "      <td>12600</td>\n",
       "      <td>85</td>\n",
       "    </tr>\n",
       "  </tbody>\n",
       "</table>\n",
       "<p>5 rows × 36 columns</p>\n",
       "</div>"
      ],
      "text/plain": [
       "   YEAR  SAMPLE  SERIAL  CBSERIAL  HHWT        CLUSTER  STATEFIP  COUNTYFIP  \\\n",
       "0  2011  201101   66400         9  55.0  2011000664001         6          0   \n",
       "1  2011  201101   66400         9  55.0  2011000664001         6          0   \n",
       "2  2011  201101   66401        13  36.0  2011000664011         6         37   \n",
       "3  2011  201101   66402        33  54.0  2011000664021         6          0   \n",
       "4  2011  201101   66402        33  54.0  2011000664021         6          0   \n",
       "\n",
       "   STRATA  GQ  ...  RACED  EDUC  EDUCD  EMPSTAT  EMPSTATD   OCC   IND  INCTOT  \\\n",
       "0   80006   1  ...    700     6     63        1        10  3645  8090   24000   \n",
       "1   80006   1  ...    700     6     65        1        10  9130  4580   50000   \n",
       "2  611306   1  ...    700     6     65        1        10  5700  6990   29300   \n",
       "3   80006   1  ...    610     6     61        1        10  4720  4980   12600   \n",
       "4   80006   1  ...    100     5     50        3        30     0     0       0   \n",
       "\n",
       "   FTOTINC  POVERTY  \n",
       "0    74000      500  \n",
       "1    74000      500  \n",
       "2    29300      255  \n",
       "3    12600       85  \n",
       "4    12600       85  \n",
       "\n",
       "[5 rows x 36 columns]"
      ]
     },
     "execution_count": 23,
     "metadata": {},
     "output_type": "execute_result"
    }
   ],
   "source": [
    "cali_2011_ACS1 = pd.read_csv('CA_Census_2011_ACS1.csv')\n",
    "cali_2011_ACS1.head()"
   ]
  },
  {
   "cell_type": "code",
   "execution_count": 24,
   "id": "fafb0ecc",
   "metadata": {},
   "outputs": [
    {
     "data": {
      "text/plain": [
       "(368809, 36)"
      ]
     },
     "execution_count": 24,
     "metadata": {},
     "output_type": "execute_result"
    }
   ],
   "source": [
    "cali_2011_ACS1.shape"
   ]
  },
  {
   "cell_type": "code",
   "execution_count": 25,
   "id": "5ac87b3d",
   "metadata": {},
   "outputs": [
    {
     "data": {
      "text/plain": [
       "Series([], dtype: int64)"
      ]
     },
     "execution_count": 25,
     "metadata": {},
     "output_type": "execute_result"
    }
   ],
   "source": [
    "cali_2011_ACS1.isna().sum()[cali_2011_ACS1.isna().sum() > 0]"
   ]
  },
  {
   "cell_type": "code",
   "execution_count": 26,
   "id": "d8038e63",
   "metadata": {},
   "outputs": [
    {
     "data": {
      "text/plain": [
       "0"
      ]
     },
     "execution_count": 26,
     "metadata": {},
     "output_type": "execute_result"
    }
   ],
   "source": [
    "cali_2011_ACS1.duplicated().sum()"
   ]
  },
  {
   "cell_type": "code",
   "execution_count": 27,
   "id": "a846086c",
   "metadata": {},
   "outputs": [
    {
     "name": "stdout",
     "output_type": "stream",
     "text": [
      "<class 'pandas.core.frame.DataFrame'>\n",
      "RangeIndex: 368809 entries, 0 to 368808\n",
      "Data columns (total 36 columns):\n",
      " #   Column     Non-Null Count   Dtype  \n",
      "---  ------     --------------   -----  \n",
      " 0   YEAR       368809 non-null  int64  \n",
      " 1   SAMPLE     368809 non-null  int64  \n",
      " 2   SERIAL     368809 non-null  int64  \n",
      " 3   CBSERIAL   368809 non-null  int64  \n",
      " 4   HHWT       368809 non-null  float64\n",
      " 5   CLUSTER    368809 non-null  int64  \n",
      " 6   STATEFIP   368809 non-null  int64  \n",
      " 7   COUNTYFIP  368809 non-null  int64  \n",
      " 8   STRATA     368809 non-null  int64  \n",
      " 9   GQ         368809 non-null  int64  \n",
      " 10  OWNERSHP   368809 non-null  int64  \n",
      " 11  OWNERSHPD  368809 non-null  int64  \n",
      " 12  MORTGAGE   368809 non-null  int64  \n",
      " 13  PROPINSR   368809 non-null  int64  \n",
      " 14  RENT       368809 non-null  int64  \n",
      " 15  COSTELEC   368809 non-null  int64  \n",
      " 16  COSTGAS    368809 non-null  int64  \n",
      " 17  HHINCOME   368809 non-null  int64  \n",
      " 18  VALUEH     368809 non-null  int64  \n",
      " 19  NFAMS      368809 non-null  int64  \n",
      " 20  PERNUM     368809 non-null  int64  \n",
      " 21  PERWT      368809 non-null  float64\n",
      " 22  SEX        368809 non-null  int64  \n",
      " 23  AGE        368809 non-null  int64  \n",
      " 24  MARST      368809 non-null  int64  \n",
      " 25  RACE       368809 non-null  int64  \n",
      " 26  RACED      368809 non-null  int64  \n",
      " 27  EDUC       368809 non-null  int64  \n",
      " 28  EDUCD      368809 non-null  int64  \n",
      " 29  EMPSTAT    368809 non-null  int64  \n",
      " 30  EMPSTATD   368809 non-null  int64  \n",
      " 31  OCC        368809 non-null  int64  \n",
      " 32  IND        368809 non-null  int64  \n",
      " 33  INCTOT     368809 non-null  int64  \n",
      " 34  FTOTINC    368809 non-null  int64  \n",
      " 35  POVERTY    368809 non-null  int64  \n",
      "dtypes: float64(2), int64(34)\n",
      "memory usage: 101.3 MB\n"
     ]
    }
   ],
   "source": [
    "cali_2011_ACS1.info()"
   ]
  },
  {
   "cell_type": "markdown",
   "id": "319226fb",
   "metadata": {},
   "source": [
    "Data types are already appropriate, so no changes are necessary."
   ]
  },
  {
   "cell_type": "code",
   "execution_count": 28,
   "id": "6ad60847",
   "metadata": {},
   "outputs": [
    {
     "data": {
      "text/plain": [
       "Index(['year', 'sample', 'serial', 'cbserial', 'hh_wt', 'cluster', 'state_fip',\n",
       "       'countyfip', 'strata', 'group_quarters', 'ownershp', 'ownershpd',\n",
       "       'mortgage', 'prop_insr', 'rent', 'cost_elec', 'cost_gas', 'hh_income',\n",
       "       'house_val', 'family_num', 'person_num', 'person_wt', 'sex', 'age',\n",
       "       'marst', 'race', 'raced', 'educ', 'educd', 'emp_stat', 'empl_statd',\n",
       "       'occ', 'ind', 'inctot', 'ftotinc', 'poverty'],\n",
       "      dtype='object')"
      ]
     },
     "execution_count": 28,
     "metadata": {},
     "output_type": "execute_result"
    }
   ],
   "source": [
    "cali_2011_ACS1.columns=cali_2011_ACS1.columns.str.lower()\n",
    "cali_2011_ACS1=cali_2011_ACS1.rename(columns={\n",
    "    'hhwt':'hh_wt',\n",
    "    'statefip':'state_fip',\n",
    "    'county_fip':'county_fip',\n",
    "    'gq':'group_quarters',\n",
    "    'propinsr':'prop_insr',\n",
    "    'costelec':'cost_elec',\n",
    "    'costgas':'cost_gas',\n",
    "    'hhincome':'hh_income',\n",
    "    'valueh':'house_val',\n",
    "    'nfams':'family_num',\n",
    "    'hhwt':'hh_wt',\n",
    "    'pernum':'person_num',\n",
    "    'perwt':'person_wt',\n",
    "    'empstat':'emp_stat',\n",
    "    'empstatd':'empl_statd'  \n",
    "})\n",
    "cali_2011_ACS1.columns"
   ]
  },
  {
   "cell_type": "code",
   "execution_count": 29,
   "id": "8c798255",
   "metadata": {},
   "outputs": [],
   "source": [
    "cali_2011_ACS1.to_csv('Cleaned_CA_Census_2011.csv', index=False)"
   ]
  },
  {
   "cell_type": "markdown",
   "id": "1002080c",
   "metadata": {},
   "source": [
    "### Import ACS 2016 1-Year Data:"
   ]
  },
  {
   "cell_type": "code",
   "execution_count": 30,
   "id": "6cee252a",
   "metadata": {},
   "outputs": [
    {
     "data": {
      "text/html": [
       "<div>\n",
       "<style scoped>\n",
       "    .dataframe tbody tr th:only-of-type {\n",
       "        vertical-align: middle;\n",
       "    }\n",
       "\n",
       "    .dataframe tbody tr th {\n",
       "        vertical-align: top;\n",
       "    }\n",
       "\n",
       "    .dataframe thead th {\n",
       "        text-align: right;\n",
       "    }\n",
       "</style>\n",
       "<table border=\"1\" class=\"dataframe\">\n",
       "  <thead>\n",
       "    <tr style=\"text-align: right;\">\n",
       "      <th></th>\n",
       "      <th>YEAR</th>\n",
       "      <th>SAMPLE</th>\n",
       "      <th>SERIAL</th>\n",
       "      <th>CBSERIAL</th>\n",
       "      <th>HHWT</th>\n",
       "      <th>CLUSTER</th>\n",
       "      <th>STATEFIP</th>\n",
       "      <th>COUNTYFIP</th>\n",
       "      <th>STRATA</th>\n",
       "      <th>GQ</th>\n",
       "      <th>...</th>\n",
       "      <th>RACED</th>\n",
       "      <th>EDUC</th>\n",
       "      <th>EDUCD</th>\n",
       "      <th>EMPSTAT</th>\n",
       "      <th>EMPSTATD</th>\n",
       "      <th>OCC</th>\n",
       "      <th>IND</th>\n",
       "      <th>INCTOT</th>\n",
       "      <th>FTOTINC</th>\n",
       "      <th>POVERTY</th>\n",
       "    </tr>\n",
       "  </thead>\n",
       "  <tbody>\n",
       "    <tr>\n",
       "      <th>0</th>\n",
       "      <td>2016</td>\n",
       "      <td>201601</td>\n",
       "      <td>67752</td>\n",
       "      <td>33</td>\n",
       "      <td>102</td>\n",
       "      <td>2.016000e+12</td>\n",
       "      <td>6</td>\n",
       "      <td>107</td>\n",
       "      <td>1070206</td>\n",
       "      <td>1</td>\n",
       "      <td>...</td>\n",
       "      <td>976</td>\n",
       "      <td>8</td>\n",
       "      <td>81</td>\n",
       "      <td>3</td>\n",
       "      <td>30</td>\n",
       "      <td>0</td>\n",
       "      <td>0</td>\n",
       "      <td>20000</td>\n",
       "      <td>54000</td>\n",
       "      <td>375</td>\n",
       "    </tr>\n",
       "    <tr>\n",
       "      <th>1</th>\n",
       "      <td>2016</td>\n",
       "      <td>201601</td>\n",
       "      <td>67752</td>\n",
       "      <td>33</td>\n",
       "      <td>102</td>\n",
       "      <td>2.016000e+12</td>\n",
       "      <td>6</td>\n",
       "      <td>107</td>\n",
       "      <td>1070206</td>\n",
       "      <td>1</td>\n",
       "      <td>...</td>\n",
       "      <td>865</td>\n",
       "      <td>6</td>\n",
       "      <td>65</td>\n",
       "      <td>3</td>\n",
       "      <td>30</td>\n",
       "      <td>0</td>\n",
       "      <td>0</td>\n",
       "      <td>34000</td>\n",
       "      <td>54000</td>\n",
       "      <td>375</td>\n",
       "    </tr>\n",
       "    <tr>\n",
       "      <th>2</th>\n",
       "      <td>2016</td>\n",
       "      <td>201601</td>\n",
       "      <td>67753</td>\n",
       "      <td>36</td>\n",
       "      <td>122</td>\n",
       "      <td>2.016000e+12</td>\n",
       "      <td>6</td>\n",
       "      <td>65</td>\n",
       "      <td>651406</td>\n",
       "      <td>1</td>\n",
       "      <td>...</td>\n",
       "      <td>801</td>\n",
       "      <td>7</td>\n",
       "      <td>71</td>\n",
       "      <td>1</td>\n",
       "      <td>10</td>\n",
       "      <td>4760</td>\n",
       "      <td>5080</td>\n",
       "      <td>14300</td>\n",
       "      <td>41500</td>\n",
       "      <td>223</td>\n",
       "    </tr>\n",
       "    <tr>\n",
       "      <th>3</th>\n",
       "      <td>2016</td>\n",
       "      <td>201601</td>\n",
       "      <td>67753</td>\n",
       "      <td>36</td>\n",
       "      <td>122</td>\n",
       "      <td>2.016000e+12</td>\n",
       "      <td>6</td>\n",
       "      <td>65</td>\n",
       "      <td>651406</td>\n",
       "      <td>1</td>\n",
       "      <td>...</td>\n",
       "      <td>100</td>\n",
       "      <td>6</td>\n",
       "      <td>63</td>\n",
       "      <td>1</td>\n",
       "      <td>10</td>\n",
       "      <td>4760</td>\n",
       "      <td>4770</td>\n",
       "      <td>15700</td>\n",
       "      <td>41500</td>\n",
       "      <td>223</td>\n",
       "    </tr>\n",
       "    <tr>\n",
       "      <th>4</th>\n",
       "      <td>2016</td>\n",
       "      <td>201601</td>\n",
       "      <td>67753</td>\n",
       "      <td>36</td>\n",
       "      <td>122</td>\n",
       "      <td>2.016000e+12</td>\n",
       "      <td>6</td>\n",
       "      <td>65</td>\n",
       "      <td>651406</td>\n",
       "      <td>1</td>\n",
       "      <td>...</td>\n",
       "      <td>801</td>\n",
       "      <td>6</td>\n",
       "      <td>65</td>\n",
       "      <td>2</td>\n",
       "      <td>20</td>\n",
       "      <td>4760</td>\n",
       "      <td>5080</td>\n",
       "      <td>11500</td>\n",
       "      <td>41500</td>\n",
       "      <td>223</td>\n",
       "    </tr>\n",
       "  </tbody>\n",
       "</table>\n",
       "<p>5 rows × 36 columns</p>\n",
       "</div>"
      ],
      "text/plain": [
       "   YEAR  SAMPLE  SERIAL  CBSERIAL  HHWT       CLUSTER  STATEFIP  COUNTYFIP  \\\n",
       "0  2016  201601   67752        33   102  2.016000e+12         6        107   \n",
       "1  2016  201601   67752        33   102  2.016000e+12         6        107   \n",
       "2  2016  201601   67753        36   122  2.016000e+12         6         65   \n",
       "3  2016  201601   67753        36   122  2.016000e+12         6         65   \n",
       "4  2016  201601   67753        36   122  2.016000e+12         6         65   \n",
       "\n",
       "    STRATA  GQ  ...  RACED  EDUC  EDUCD  EMPSTAT  EMPSTATD   OCC   IND  \\\n",
       "0  1070206   1  ...    976     8     81        3        30     0     0   \n",
       "1  1070206   1  ...    865     6     65        3        30     0     0   \n",
       "2   651406   1  ...    801     7     71        1        10  4760  5080   \n",
       "3   651406   1  ...    100     6     63        1        10  4760  4770   \n",
       "4   651406   1  ...    801     6     65        2        20  4760  5080   \n",
       "\n",
       "   INCTOT  FTOTINC  POVERTY  \n",
       "0   20000    54000      375  \n",
       "1   34000    54000      375  \n",
       "2   14300    41500      223  \n",
       "3   15700    41500      223  \n",
       "4   11500    41500      223  \n",
       "\n",
       "[5 rows x 36 columns]"
      ]
     },
     "execution_count": 30,
     "metadata": {},
     "output_type": "execute_result"
    }
   ],
   "source": [
    "cali_2016_ACS1 = pd.read_csv('CA_Census_2016_ACS1.csv')\n",
    "cali_2016_ACS1.head()"
   ]
  },
  {
   "cell_type": "code",
   "execution_count": 31,
   "id": "1563f8c6",
   "metadata": {},
   "outputs": [
    {
     "data": {
      "text/plain": [
       "(376035, 36)"
      ]
     },
     "execution_count": 31,
     "metadata": {},
     "output_type": "execute_result"
    }
   ],
   "source": [
    "cali_2016_ACS1.shape"
   ]
  },
  {
   "cell_type": "code",
   "execution_count": 32,
   "id": "4b367627",
   "metadata": {},
   "outputs": [
    {
     "data": {
      "text/plain": [
       "Series([], dtype: int64)"
      ]
     },
     "execution_count": 32,
     "metadata": {},
     "output_type": "execute_result"
    }
   ],
   "source": [
    "cali_2016_ACS1.isna().sum()[cali_2016_ACS1.isna().sum() > 0]"
   ]
  },
  {
   "cell_type": "code",
   "execution_count": 33,
   "id": "dfcc1335",
   "metadata": {},
   "outputs": [
    {
     "data": {
      "text/plain": [
       "0"
      ]
     },
     "execution_count": 33,
     "metadata": {},
     "output_type": "execute_result"
    }
   ],
   "source": [
    "cali_2016_ACS1.duplicated().sum()"
   ]
  },
  {
   "cell_type": "code",
   "execution_count": 34,
   "id": "0f65dfe0",
   "metadata": {},
   "outputs": [
    {
     "name": "stdout",
     "output_type": "stream",
     "text": [
      "<class 'pandas.core.frame.DataFrame'>\n",
      "RangeIndex: 376035 entries, 0 to 376034\n",
      "Data columns (total 36 columns):\n",
      " #   Column     Non-Null Count   Dtype  \n",
      "---  ------     --------------   -----  \n",
      " 0   YEAR       376035 non-null  int64  \n",
      " 1   SAMPLE     376035 non-null  int64  \n",
      " 2   SERIAL     376035 non-null  int64  \n",
      " 3   CBSERIAL   376035 non-null  int64  \n",
      " 4   HHWT       376035 non-null  int64  \n",
      " 5   CLUSTER    376035 non-null  float64\n",
      " 6   STATEFIP   376035 non-null  int64  \n",
      " 7   COUNTYFIP  376035 non-null  int64  \n",
      " 8   STRATA     376035 non-null  int64  \n",
      " 9   GQ         376035 non-null  int64  \n",
      " 10  OWNERSHP   376035 non-null  int64  \n",
      " 11  OWNERSHPD  376035 non-null  int64  \n",
      " 12  MORTGAGE   376035 non-null  int64  \n",
      " 13  PROPINSR   376035 non-null  int64  \n",
      " 14  RENT       376035 non-null  int64  \n",
      " 15  COSTELEC   376035 non-null  int64  \n",
      " 16  COSTGAS    376035 non-null  int64  \n",
      " 17  HHINCOME   376035 non-null  int64  \n",
      " 18  VALUEH     376035 non-null  int64  \n",
      " 19  NFAMS      376035 non-null  int64  \n",
      " 20  PERNUM     376035 non-null  int64  \n",
      " 21  PERWT      376035 non-null  int64  \n",
      " 22  SEX        376035 non-null  int64  \n",
      " 23  AGE        376035 non-null  int64  \n",
      " 24  MARST      376035 non-null  int64  \n",
      " 25  RACE       376035 non-null  int64  \n",
      " 26  RACED      376035 non-null  int64  \n",
      " 27  EDUC       376035 non-null  int64  \n",
      " 28  EDUCD      376035 non-null  int64  \n",
      " 29  EMPSTAT    376035 non-null  int64  \n",
      " 30  EMPSTATD   376035 non-null  int64  \n",
      " 31  OCC        376035 non-null  int64  \n",
      " 32  IND        376035 non-null  int64  \n",
      " 33  INCTOT     376035 non-null  int64  \n",
      " 34  FTOTINC    376035 non-null  int64  \n",
      " 35  POVERTY    376035 non-null  int64  \n",
      "dtypes: float64(1), int64(35)\n",
      "memory usage: 103.3 MB\n"
     ]
    }
   ],
   "source": [
    "cali_2016_ACS1.info()"
   ]
  },
  {
   "cell_type": "markdown",
   "id": "120d91e9",
   "metadata": {},
   "source": [
    "Data types are already appropriate, so no changes are necessary."
   ]
  },
  {
   "cell_type": "code",
   "execution_count": 35,
   "id": "d955fe8c",
   "metadata": {},
   "outputs": [
    {
     "data": {
      "text/plain": [
       "Index(['year', 'sample', 'serial', 'cbserial', 'hh_wt', 'cluster', 'state_fip',\n",
       "       'countyfip', 'strata', 'group_quarters', 'ownershp', 'ownershpd',\n",
       "       'mortgage', 'prop_insr', 'rent', 'cost_elec', 'cost_gas', 'hh_income',\n",
       "       'house_val', 'family_num', 'person_num', 'person_wt', 'sex', 'age',\n",
       "       'marst', 'race', 'raced', 'educ', 'educd', 'emp_stat', 'empl_statd',\n",
       "       'occ', 'ind', 'inctot', 'ftotinc', 'poverty'],\n",
       "      dtype='object')"
      ]
     },
     "execution_count": 35,
     "metadata": {},
     "output_type": "execute_result"
    }
   ],
   "source": [
    "cali_2016_ACS1.columns=cali_2016_ACS1.columns.str.lower()\n",
    "cali_2016_ACS1=cali_2016_ACS1.rename(columns={\n",
    "    'hhwt':'hh_wt',\n",
    "    'statefip':'state_fip',\n",
    "    'county_fip':'county_fip',\n",
    "    'gq':'group_quarters',\n",
    "    'propinsr':'prop_insr',\n",
    "    'costelec':'cost_elec',\n",
    "    'costgas':'cost_gas',\n",
    "    'hhincome':'hh_income',\n",
    "    'valueh':'house_val',\n",
    "    'nfams':'family_num',\n",
    "    'hhwt':'hh_wt',\n",
    "    'pernum':'person_num',\n",
    "    'perwt':'person_wt',\n",
    "    'empstat':'emp_stat',\n",
    "    'empstatd':'empl_statd'  \n",
    "})\n",
    "cali_2016_ACS1.columns"
   ]
  },
  {
   "cell_type": "code",
   "execution_count": 36,
   "id": "14617b9c",
   "metadata": {},
   "outputs": [],
   "source": [
    "cali_2016_ACS1.to_csv('Cleaned_CA_Census_2016.csv', index=False)"
   ]
  },
  {
   "cell_type": "markdown",
   "id": "4d937fa8",
   "metadata": {},
   "source": [
    "### Import ACS 2021 1-Year Data:"
   ]
  },
  {
   "cell_type": "code",
   "execution_count": 37,
   "id": "2ba9bb77",
   "metadata": {},
   "outputs": [
    {
     "data": {
      "text/html": [
       "<div>\n",
       "<style scoped>\n",
       "    .dataframe tbody tr th:only-of-type {\n",
       "        vertical-align: middle;\n",
       "    }\n",
       "\n",
       "    .dataframe tbody tr th {\n",
       "        vertical-align: top;\n",
       "    }\n",
       "\n",
       "    .dataframe thead th {\n",
       "        text-align: right;\n",
       "    }\n",
       "</style>\n",
       "<table border=\"1\" class=\"dataframe\">\n",
       "  <thead>\n",
       "    <tr style=\"text-align: right;\">\n",
       "      <th></th>\n",
       "      <th>YEAR</th>\n",
       "      <th>SAMPLE</th>\n",
       "      <th>SERIAL</th>\n",
       "      <th>CBSERIAL</th>\n",
       "      <th>HHWT</th>\n",
       "      <th>CLUSTER</th>\n",
       "      <th>STATEFIP</th>\n",
       "      <th>COUNTYFIP</th>\n",
       "      <th>STRATA</th>\n",
       "      <th>GQ</th>\n",
       "      <th>...</th>\n",
       "      <th>RACED</th>\n",
       "      <th>EDUC</th>\n",
       "      <th>EDUCD</th>\n",
       "      <th>EMPSTAT</th>\n",
       "      <th>EMPSTATD</th>\n",
       "      <th>OCC</th>\n",
       "      <th>IND</th>\n",
       "      <th>INCTOT</th>\n",
       "      <th>FTOTINC</th>\n",
       "      <th>POVERTY</th>\n",
       "    </tr>\n",
       "  </thead>\n",
       "  <tbody>\n",
       "    <tr>\n",
       "      <th>0</th>\n",
       "      <td>2021</td>\n",
       "      <td>202101</td>\n",
       "      <td>71725</td>\n",
       "      <td>2.021010e+12</td>\n",
       "      <td>177</td>\n",
       "      <td>2.021000e+12</td>\n",
       "      <td>6</td>\n",
       "      <td>37</td>\n",
       "      <td>374106</td>\n",
       "      <td>4</td>\n",
       "      <td>...</td>\n",
       "      <td>100</td>\n",
       "      <td>0</td>\n",
       "      <td>2</td>\n",
       "      <td>3</td>\n",
       "      <td>30</td>\n",
       "      <td>0</td>\n",
       "      <td>0</td>\n",
       "      <td>15000</td>\n",
       "      <td>9999999</td>\n",
       "      <td>0</td>\n",
       "    </tr>\n",
       "    <tr>\n",
       "      <th>1</th>\n",
       "      <td>2021</td>\n",
       "      <td>202101</td>\n",
       "      <td>71726</td>\n",
       "      <td>2.021010e+12</td>\n",
       "      <td>14</td>\n",
       "      <td>2.021000e+12</td>\n",
       "      <td>6</td>\n",
       "      <td>111</td>\n",
       "      <td>1110206</td>\n",
       "      <td>3</td>\n",
       "      <td>...</td>\n",
       "      <td>100</td>\n",
       "      <td>10</td>\n",
       "      <td>101</td>\n",
       "      <td>3</td>\n",
       "      <td>30</td>\n",
       "      <td>0</td>\n",
       "      <td>0</td>\n",
       "      <td>14800</td>\n",
       "      <td>9999999</td>\n",
       "      <td>0</td>\n",
       "    </tr>\n",
       "    <tr>\n",
       "      <th>2</th>\n",
       "      <td>2021</td>\n",
       "      <td>202101</td>\n",
       "      <td>71727</td>\n",
       "      <td>2.021010e+12</td>\n",
       "      <td>14</td>\n",
       "      <td>2.021000e+12</td>\n",
       "      <td>6</td>\n",
       "      <td>67</td>\n",
       "      <td>671206</td>\n",
       "      <td>4</td>\n",
       "      <td>...</td>\n",
       "      <td>100</td>\n",
       "      <td>6</td>\n",
       "      <td>63</td>\n",
       "      <td>3</td>\n",
       "      <td>30</td>\n",
       "      <td>0</td>\n",
       "      <td>0</td>\n",
       "      <td>11300</td>\n",
       "      <td>9999999</td>\n",
       "      <td>0</td>\n",
       "    </tr>\n",
       "    <tr>\n",
       "      <th>3</th>\n",
       "      <td>2021</td>\n",
       "      <td>202101</td>\n",
       "      <td>71728</td>\n",
       "      <td>2.021010e+12</td>\n",
       "      <td>19</td>\n",
       "      <td>2.021000e+12</td>\n",
       "      <td>6</td>\n",
       "      <td>55</td>\n",
       "      <td>550006</td>\n",
       "      <td>4</td>\n",
       "      <td>...</td>\n",
       "      <td>100</td>\n",
       "      <td>10</td>\n",
       "      <td>101</td>\n",
       "      <td>3</td>\n",
       "      <td>30</td>\n",
       "      <td>2633</td>\n",
       "      <td>9570</td>\n",
       "      <td>14000</td>\n",
       "      <td>9999999</td>\n",
       "      <td>0</td>\n",
       "    </tr>\n",
       "    <tr>\n",
       "      <th>4</th>\n",
       "      <td>2021</td>\n",
       "      <td>202101</td>\n",
       "      <td>71729</td>\n",
       "      <td>2.021010e+12</td>\n",
       "      <td>17</td>\n",
       "      <td>2.021000e+12</td>\n",
       "      <td>6</td>\n",
       "      <td>37</td>\n",
       "      <td>373506</td>\n",
       "      <td>4</td>\n",
       "      <td>...</td>\n",
       "      <td>100</td>\n",
       "      <td>8</td>\n",
       "      <td>81</td>\n",
       "      <td>2</td>\n",
       "      <td>20</td>\n",
       "      <td>4760</td>\n",
       "      <td>5170</td>\n",
       "      <td>7600</td>\n",
       "      <td>9999999</td>\n",
       "      <td>0</td>\n",
       "    </tr>\n",
       "  </tbody>\n",
       "</table>\n",
       "<p>5 rows × 36 columns</p>\n",
       "</div>"
      ],
      "text/plain": [
       "   YEAR  SAMPLE  SERIAL      CBSERIAL  HHWT       CLUSTER  STATEFIP  \\\n",
       "0  2021  202101   71725  2.021010e+12   177  2.021000e+12         6   \n",
       "1  2021  202101   71726  2.021010e+12    14  2.021000e+12         6   \n",
       "2  2021  202101   71727  2.021010e+12    14  2.021000e+12         6   \n",
       "3  2021  202101   71728  2.021010e+12    19  2.021000e+12         6   \n",
       "4  2021  202101   71729  2.021010e+12    17  2.021000e+12         6   \n",
       "\n",
       "   COUNTYFIP   STRATA  GQ  ...  RACED  EDUC  EDUCD  EMPSTAT  EMPSTATD   OCC  \\\n",
       "0         37   374106   4  ...    100     0      2        3        30     0   \n",
       "1        111  1110206   3  ...    100    10    101        3        30     0   \n",
       "2         67   671206   4  ...    100     6     63        3        30     0   \n",
       "3         55   550006   4  ...    100    10    101        3        30  2633   \n",
       "4         37   373506   4  ...    100     8     81        2        20  4760   \n",
       "\n",
       "    IND  INCTOT  FTOTINC  POVERTY  \n",
       "0     0   15000  9999999        0  \n",
       "1     0   14800  9999999        0  \n",
       "2     0   11300  9999999        0  \n",
       "3  9570   14000  9999999        0  \n",
       "4  5170    7600  9999999        0  \n",
       "\n",
       "[5 rows x 36 columns]"
      ]
     },
     "execution_count": 37,
     "metadata": {},
     "output_type": "execute_result"
    }
   ],
   "source": [
    "cali_2021_ACS1 = pd.read_csv('CA_Census_2021_ACS1.csv')\n",
    "cali_2021_ACS1.head()"
   ]
  },
  {
   "cell_type": "code",
   "execution_count": 38,
   "id": "e1dd93a6",
   "metadata": {},
   "outputs": [
    {
     "data": {
      "text/plain": [
       "(386061, 36)"
      ]
     },
     "execution_count": 38,
     "metadata": {},
     "output_type": "execute_result"
    }
   ],
   "source": [
    "cali_2021_ACS1.shape"
   ]
  },
  {
   "cell_type": "code",
   "execution_count": 39,
   "id": "4ddc1065",
   "metadata": {},
   "outputs": [
    {
     "data": {
      "text/plain": [
       "Series([], dtype: int64)"
      ]
     },
     "execution_count": 39,
     "metadata": {},
     "output_type": "execute_result"
    }
   ],
   "source": [
    "cali_2021_ACS1.isna().sum()[cali_2021_ACS1.isna().sum() > 0]"
   ]
  },
  {
   "cell_type": "code",
   "execution_count": 40,
   "id": "38c6173f",
   "metadata": {},
   "outputs": [
    {
     "data": {
      "text/plain": [
       "0"
      ]
     },
     "execution_count": 40,
     "metadata": {},
     "output_type": "execute_result"
    }
   ],
   "source": [
    "cali_2021_ACS1.duplicated().sum()"
   ]
  },
  {
   "cell_type": "code",
   "execution_count": 41,
   "id": "7cd0461d",
   "metadata": {},
   "outputs": [
    {
     "name": "stdout",
     "output_type": "stream",
     "text": [
      "<class 'pandas.core.frame.DataFrame'>\n",
      "RangeIndex: 386061 entries, 0 to 386060\n",
      "Data columns (total 36 columns):\n",
      " #   Column     Non-Null Count   Dtype  \n",
      "---  ------     --------------   -----  \n",
      " 0   YEAR       386061 non-null  int64  \n",
      " 1   SAMPLE     386061 non-null  int64  \n",
      " 2   SERIAL     386061 non-null  int64  \n",
      " 3   CBSERIAL   386061 non-null  float64\n",
      " 4   HHWT       386061 non-null  int64  \n",
      " 5   CLUSTER    386061 non-null  float64\n",
      " 6   STATEFIP   386061 non-null  int64  \n",
      " 7   COUNTYFIP  386061 non-null  int64  \n",
      " 8   STRATA     386061 non-null  int64  \n",
      " 9   GQ         386061 non-null  int64  \n",
      " 10  OWNERSHP   386061 non-null  int64  \n",
      " 11  OWNERSHPD  386061 non-null  int64  \n",
      " 12  MORTGAGE   386061 non-null  int64  \n",
      " 13  PROPINSR   386061 non-null  int64  \n",
      " 14  RENT       386061 non-null  int64  \n",
      " 15  COSTELEC   386061 non-null  int64  \n",
      " 16  COSTGAS    386061 non-null  int64  \n",
      " 17  HHINCOME   386061 non-null  int64  \n",
      " 18  VALUEH     386061 non-null  int64  \n",
      " 19  NFAMS      386061 non-null  int64  \n",
      " 20  PERNUM     386061 non-null  int64  \n",
      " 21  PERWT      386061 non-null  int64  \n",
      " 22  SEX        386061 non-null  int64  \n",
      " 23  AGE        386061 non-null  int64  \n",
      " 24  MARST      386061 non-null  int64  \n",
      " 25  RACE       386061 non-null  int64  \n",
      " 26  RACED      386061 non-null  int64  \n",
      " 27  EDUC       386061 non-null  int64  \n",
      " 28  EDUCD      386061 non-null  int64  \n",
      " 29  EMPSTAT    386061 non-null  int64  \n",
      " 30  EMPSTATD   386061 non-null  int64  \n",
      " 31  OCC        386061 non-null  int64  \n",
      " 32  IND        386061 non-null  int64  \n",
      " 33  INCTOT     386061 non-null  int64  \n",
      " 34  FTOTINC    386061 non-null  int64  \n",
      " 35  POVERTY    386061 non-null  int64  \n",
      "dtypes: float64(2), int64(34)\n",
      "memory usage: 106.0 MB\n"
     ]
    }
   ],
   "source": [
    "cali_2021_ACS1.info()"
   ]
  },
  {
   "cell_type": "markdown",
   "id": "75afcd61",
   "metadata": {},
   "source": [
    "Data types are already appropriate, so no changes are necessary."
   ]
  },
  {
   "cell_type": "code",
   "execution_count": 42,
   "id": "b4f27390",
   "metadata": {},
   "outputs": [
    {
     "data": {
      "text/plain": [
       "Index(['year', 'sample', 'serial', 'cbserial', 'hh_wt', 'cluster', 'state_fip',\n",
       "       'countyfip', 'strata', 'group_quarters', 'ownershp', 'ownershpd',\n",
       "       'mortgage', 'prop_insr', 'rent', 'cost_elec', 'cost_gas', 'hh_income',\n",
       "       'house_val', 'family_num', 'person_num', 'person_wt', 'sex', 'age',\n",
       "       'marst', 'race', 'raced', 'educ', 'educd', 'emp_stat', 'empl_statd',\n",
       "       'occ', 'ind', 'inctot', 'ftotinc', 'poverty'],\n",
       "      dtype='object')"
      ]
     },
     "execution_count": 42,
     "metadata": {},
     "output_type": "execute_result"
    }
   ],
   "source": [
    "cali_2021_ACS1.columns=cali_2021_ACS1.columns.str.lower()\n",
    "cali_2021_ACS1=cali_2021_ACS1.rename(columns={\n",
    "    'hhwt':'hh_wt',\n",
    "    'statefip':'state_fip',\n",
    "    'county_fip':'county_fip',\n",
    "    'gq':'group_quarters',\n",
    "    'propinsr':'prop_insr',\n",
    "    'costelec':'cost_elec',\n",
    "    'costgas':'cost_gas',\n",
    "    'hhincome':'hh_income',\n",
    "    'valueh':'house_val',\n",
    "    'nfams':'family_num',\n",
    "    'hhwt':'hh_wt',\n",
    "    'pernum':'person_num',\n",
    "    'perwt':'person_wt',\n",
    "    'empstat':'emp_stat',\n",
    "    'empstatd':'empl_statd'  \n",
    "})\n",
    "cali_2021_ACS1.columns"
   ]
  },
  {
   "cell_type": "code",
   "execution_count": 43,
   "id": "1d4352c4",
   "metadata": {},
   "outputs": [],
   "source": [
    "cali_2021_ACS1.to_csv('Cleaned_CA_Census_2021.csv', index=False)"
   ]
  },
  {
   "cell_type": "markdown",
   "id": "bfc7d5dd",
   "metadata": {},
   "source": [
    "### Import ACS 2023 1-Year Data:"
   ]
  },
  {
   "cell_type": "code",
   "execution_count": 44,
   "id": "979f9ce9",
   "metadata": {},
   "outputs": [
    {
     "data": {
      "text/html": [
       "<div>\n",
       "<style scoped>\n",
       "    .dataframe tbody tr th:only-of-type {\n",
       "        vertical-align: middle;\n",
       "    }\n",
       "\n",
       "    .dataframe tbody tr th {\n",
       "        vertical-align: top;\n",
       "    }\n",
       "\n",
       "    .dataframe thead th {\n",
       "        text-align: right;\n",
       "    }\n",
       "</style>\n",
       "<table border=\"1\" class=\"dataframe\">\n",
       "  <thead>\n",
       "    <tr style=\"text-align: right;\">\n",
       "      <th></th>\n",
       "      <th>YEAR</th>\n",
       "      <th>SAMPLE</th>\n",
       "      <th>SERIAL</th>\n",
       "      <th>CBSERIAL</th>\n",
       "      <th>HHWT</th>\n",
       "      <th>CLUSTER</th>\n",
       "      <th>STATEFIP</th>\n",
       "      <th>COUNTYFIP</th>\n",
       "      <th>STRATA</th>\n",
       "      <th>GQ</th>\n",
       "      <th>...</th>\n",
       "      <th>RACED</th>\n",
       "      <th>EDUC</th>\n",
       "      <th>EDUCD</th>\n",
       "      <th>EMPSTAT</th>\n",
       "      <th>EMPSTATD</th>\n",
       "      <th>OCC</th>\n",
       "      <th>IND</th>\n",
       "      <th>INCTOT</th>\n",
       "      <th>FTOTINC</th>\n",
       "      <th>POVERTY</th>\n",
       "    </tr>\n",
       "  </thead>\n",
       "  <tbody>\n",
       "    <tr>\n",
       "      <th>0</th>\n",
       "      <td>2023</td>\n",
       "      <td>202301</td>\n",
       "      <td>76841</td>\n",
       "      <td>2023010000009</td>\n",
       "      <td>85.0</td>\n",
       "      <td>2023000768411</td>\n",
       "      <td>6</td>\n",
       "      <td>59</td>\n",
       "      <td>592406</td>\n",
       "      <td>4</td>\n",
       "      <td>...</td>\n",
       "      <td>700</td>\n",
       "      <td>7</td>\n",
       "      <td>71</td>\n",
       "      <td>1</td>\n",
       "      <td>10</td>\n",
       "      <td>4055</td>\n",
       "      <td>8680</td>\n",
       "      <td>3600</td>\n",
       "      <td>9999999</td>\n",
       "      <td>0</td>\n",
       "    </tr>\n",
       "    <tr>\n",
       "      <th>1</th>\n",
       "      <td>2023</td>\n",
       "      <td>202301</td>\n",
       "      <td>76842</td>\n",
       "      <td>2023010000028</td>\n",
       "      <td>60.0</td>\n",
       "      <td>2023000768421</td>\n",
       "      <td>6</td>\n",
       "      <td>85</td>\n",
       "      <td>851506</td>\n",
       "      <td>4</td>\n",
       "      <td>...</td>\n",
       "      <td>100</td>\n",
       "      <td>7</td>\n",
       "      <td>71</td>\n",
       "      <td>1</td>\n",
       "      <td>10</td>\n",
       "      <td>2850</td>\n",
       "      <td>8564</td>\n",
       "      <td>800</td>\n",
       "      <td>9999999</td>\n",
       "      <td>0</td>\n",
       "    </tr>\n",
       "    <tr>\n",
       "      <th>2</th>\n",
       "      <td>2023</td>\n",
       "      <td>202301</td>\n",
       "      <td>76843</td>\n",
       "      <td>2023010000030</td>\n",
       "      <td>27.0</td>\n",
       "      <td>2023000768431</td>\n",
       "      <td>6</td>\n",
       "      <td>25</td>\n",
       "      <td>250006</td>\n",
       "      <td>3</td>\n",
       "      <td>...</td>\n",
       "      <td>200</td>\n",
       "      <td>4</td>\n",
       "      <td>40</td>\n",
       "      <td>3</td>\n",
       "      <td>30</td>\n",
       "      <td>0</td>\n",
       "      <td>0</td>\n",
       "      <td>0</td>\n",
       "      <td>9999999</td>\n",
       "      <td>0</td>\n",
       "    </tr>\n",
       "    <tr>\n",
       "      <th>3</th>\n",
       "      <td>2023</td>\n",
       "      <td>202301</td>\n",
       "      <td>76844</td>\n",
       "      <td>2023010000033</td>\n",
       "      <td>23.0</td>\n",
       "      <td>2023000768441</td>\n",
       "      <td>6</td>\n",
       "      <td>59</td>\n",
       "      <td>591606</td>\n",
       "      <td>4</td>\n",
       "      <td>...</td>\n",
       "      <td>100</td>\n",
       "      <td>10</td>\n",
       "      <td>101</td>\n",
       "      <td>3</td>\n",
       "      <td>30</td>\n",
       "      <td>0</td>\n",
       "      <td>0</td>\n",
       "      <td>2700</td>\n",
       "      <td>9999999</td>\n",
       "      <td>0</td>\n",
       "    </tr>\n",
       "    <tr>\n",
       "      <th>4</th>\n",
       "      <td>2023</td>\n",
       "      <td>202301</td>\n",
       "      <td>76845</td>\n",
       "      <td>2023010000052</td>\n",
       "      <td>51.0</td>\n",
       "      <td>2023000768451</td>\n",
       "      <td>6</td>\n",
       "      <td>81</td>\n",
       "      <td>810606</td>\n",
       "      <td>4</td>\n",
       "      <td>...</td>\n",
       "      <td>100</td>\n",
       "      <td>8</td>\n",
       "      <td>81</td>\n",
       "      <td>1</td>\n",
       "      <td>10</td>\n",
       "      <td>2850</td>\n",
       "      <td>8564</td>\n",
       "      <td>1800</td>\n",
       "      <td>9999999</td>\n",
       "      <td>0</td>\n",
       "    </tr>\n",
       "  </tbody>\n",
       "</table>\n",
       "<p>5 rows × 36 columns</p>\n",
       "</div>"
      ],
      "text/plain": [
       "   YEAR  SAMPLE  SERIAL       CBSERIAL  HHWT        CLUSTER  STATEFIP  \\\n",
       "0  2023  202301   76841  2023010000009  85.0  2023000768411         6   \n",
       "1  2023  202301   76842  2023010000028  60.0  2023000768421         6   \n",
       "2  2023  202301   76843  2023010000030  27.0  2023000768431         6   \n",
       "3  2023  202301   76844  2023010000033  23.0  2023000768441         6   \n",
       "4  2023  202301   76845  2023010000052  51.0  2023000768451         6   \n",
       "\n",
       "   COUNTYFIP  STRATA  GQ  ...  RACED  EDUC  EDUCD  EMPSTAT  EMPSTATD   OCC  \\\n",
       "0         59  592406   4  ...    700     7     71        1        10  4055   \n",
       "1         85  851506   4  ...    100     7     71        1        10  2850   \n",
       "2         25  250006   3  ...    200     4     40        3        30     0   \n",
       "3         59  591606   4  ...    100    10    101        3        30     0   \n",
       "4         81  810606   4  ...    100     8     81        1        10  2850   \n",
       "\n",
       "    IND  INCTOT  FTOTINC  POVERTY  \n",
       "0  8680    3600  9999999        0  \n",
       "1  8564     800  9999999        0  \n",
       "2     0       0  9999999        0  \n",
       "3     0    2700  9999999        0  \n",
       "4  8564    1800  9999999        0  \n",
       "\n",
       "[5 rows x 36 columns]"
      ]
     },
     "execution_count": 44,
     "metadata": {},
     "output_type": "execute_result"
    }
   ],
   "source": [
    "cali_2023_ACS1 = pd.read_csv('CA_Census_2023_ACS1.csv')\n",
    "cali_2023_ACS1.head()"
   ]
  },
  {
   "cell_type": "code",
   "execution_count": 45,
   "id": "f559d166",
   "metadata": {},
   "outputs": [
    {
     "data": {
      "text/plain": [
       "(392318, 36)"
      ]
     },
     "execution_count": 45,
     "metadata": {},
     "output_type": "execute_result"
    }
   ],
   "source": [
    "cali_2023_ACS1.shape"
   ]
  },
  {
   "cell_type": "code",
   "execution_count": 46,
   "id": "23c9ea40",
   "metadata": {},
   "outputs": [
    {
     "data": {
      "text/plain": [
       "Series([], dtype: int64)"
      ]
     },
     "execution_count": 46,
     "metadata": {},
     "output_type": "execute_result"
    }
   ],
   "source": [
    "cali_2023_ACS1.isna().sum()[cali_2023_ACS1.isna().sum() > 0]"
   ]
  },
  {
   "cell_type": "code",
   "execution_count": 47,
   "id": "2acb146f",
   "metadata": {},
   "outputs": [
    {
     "data": {
      "text/plain": [
       "0"
      ]
     },
     "execution_count": 47,
     "metadata": {},
     "output_type": "execute_result"
    }
   ],
   "source": [
    "cali_2023_ACS1.duplicated().sum()"
   ]
  },
  {
   "cell_type": "code",
   "execution_count": 48,
   "id": "2b29e131",
   "metadata": {},
   "outputs": [
    {
     "name": "stdout",
     "output_type": "stream",
     "text": [
      "<class 'pandas.core.frame.DataFrame'>\n",
      "RangeIndex: 392318 entries, 0 to 392317\n",
      "Data columns (total 36 columns):\n",
      " #   Column     Non-Null Count   Dtype  \n",
      "---  ------     --------------   -----  \n",
      " 0   YEAR       392318 non-null  int64  \n",
      " 1   SAMPLE     392318 non-null  int64  \n",
      " 2   SERIAL     392318 non-null  int64  \n",
      " 3   CBSERIAL   392318 non-null  int64  \n",
      " 4   HHWT       392318 non-null  float64\n",
      " 5   CLUSTER    392318 non-null  int64  \n",
      " 6   STATEFIP   392318 non-null  int64  \n",
      " 7   COUNTYFIP  392318 non-null  int64  \n",
      " 8   STRATA     392318 non-null  int64  \n",
      " 9   GQ         392318 non-null  int64  \n",
      " 10  OWNERSHP   392318 non-null  int64  \n",
      " 11  OWNERSHPD  392318 non-null  int64  \n",
      " 12  MORTGAGE   392318 non-null  int64  \n",
      " 13  PROPINSR   392318 non-null  int64  \n",
      " 14  RENT       392318 non-null  int64  \n",
      " 15  COSTELEC   392318 non-null  int64  \n",
      " 16  COSTGAS    392318 non-null  int64  \n",
      " 17  HHINCOME   392318 non-null  int64  \n",
      " 18  VALUEH     392318 non-null  int64  \n",
      " 19  NFAMS      392318 non-null  int64  \n",
      " 20  PERNUM     392318 non-null  int64  \n",
      " 21  PERWT      392318 non-null  float64\n",
      " 22  SEX        392318 non-null  int64  \n",
      " 23  AGE        392318 non-null  int64  \n",
      " 24  MARST      392318 non-null  int64  \n",
      " 25  RACE       392318 non-null  int64  \n",
      " 26  RACED      392318 non-null  int64  \n",
      " 27  EDUC       392318 non-null  int64  \n",
      " 28  EDUCD      392318 non-null  int64  \n",
      " 29  EMPSTAT    392318 non-null  int64  \n",
      " 30  EMPSTATD   392318 non-null  int64  \n",
      " 31  OCC        392318 non-null  int64  \n",
      " 32  IND        392318 non-null  int64  \n",
      " 33  INCTOT     392318 non-null  int64  \n",
      " 34  FTOTINC    392318 non-null  int64  \n",
      " 35  POVERTY    392318 non-null  int64  \n",
      "dtypes: float64(2), int64(34)\n",
      "memory usage: 107.8 MB\n"
     ]
    }
   ],
   "source": [
    "cali_2023_ACS1.info()"
   ]
  },
  {
   "cell_type": "markdown",
   "id": "32768dfb",
   "metadata": {},
   "source": [
    "Data types are already appropriate, so no changes are necessary."
   ]
  },
  {
   "cell_type": "code",
   "execution_count": 49,
   "id": "3c447082",
   "metadata": {},
   "outputs": [
    {
     "data": {
      "text/plain": [
       "Index(['year', 'sample', 'serial', 'cbserial', 'hh_wt', 'cluster', 'state_fip',\n",
       "       'countyfip', 'strata', 'group_quarters', 'ownershp', 'ownershpd',\n",
       "       'mortgage', 'prop_insr', 'rent', 'cost_elec', 'cost_gas', 'hh_income',\n",
       "       'house_val', 'family_num', 'person_num', 'person_wt', 'sex', 'age',\n",
       "       'marst', 'race', 'raced', 'educ', 'educd', 'emp_stat', 'empl_statd',\n",
       "       'occ', 'ind', 'inctot', 'ftotinc', 'poverty'],\n",
       "      dtype='object')"
      ]
     },
     "execution_count": 49,
     "metadata": {},
     "output_type": "execute_result"
    }
   ],
   "source": [
    "cali_2023_ACS1.columns=cali_2023_ACS1.columns.str.lower()\n",
    "cali_2023_ACS1=cali_2023_ACS1.rename(columns={\n",
    "    'hhwt':'hh_wt',\n",
    "    'statefip':'state_fip',\n",
    "    'county_fip':'county_fip',\n",
    "    'gq':'group_quarters',\n",
    "    'propinsr':'prop_insr',\n",
    "    'costelec':'cost_elec',\n",
    "    'costgas':'cost_gas',\n",
    "    'hhincome':'hh_income',\n",
    "    'valueh':'house_val',\n",
    "    'nfams':'family_num',\n",
    "    'hhwt':'hh_wt',\n",
    "    'pernum':'person_num',\n",
    "    'perwt':'person_wt',\n",
    "    'empstat':'emp_stat',\n",
    "    'empstatd':'empl_statd'  \n",
    "})\n",
    "cali_2023_ACS1.columns"
   ]
  },
  {
   "cell_type": "code",
   "execution_count": 50,
   "id": "88930cba",
   "metadata": {},
   "outputs": [],
   "source": [
    "cali_2023_ACS1.to_csv('Cleaned_CA_Census_2023.csv', index=False)"
   ]
  },
  {
   "cell_type": "markdown",
   "id": "08ebfc27",
   "metadata": {},
   "source": [
    "## Import the cleaned individual .csv files and combine them into one new file:"
   ]
  },
  {
   "cell_type": "code",
   "execution_count": 51,
   "id": "d2971657-d2bb-4145-89cc-77d5ad43ae48",
   "metadata": {},
   "outputs": [
    {
     "name": "stdout",
     "output_type": "stream",
     "text": [
      "Loading Cleaned_CA_Census_2000.csv\n",
      "Loading Cleaned_CA_Census_2021.csv\n",
      "Loading Cleaned_CA_Census_2016.csv\n",
      "Loading Cleaned_CA_Census_2011.csv\n",
      "Loading Cleaned_CA_Census_2006.csv\n",
      "Loading Cleaned_CA_Census_2023.csv\n",
      "Loading Cleaned_CA_Census_1990.csv\n",
      "Success, all datasets merged!\n"
     ]
    }
   ],
   "source": [
    "dataset_names=['Cleaned_CA_Census_2000.csv','Cleaned_CA_Census_2021.csv','Cleaned_CA_Census_2016.csv','Cleaned_CA_Census_2011.csv','Cleaned_CA_Census_2006.csv','Cleaned_CA_Census_2023.csv','Cleaned_CA_Census_1990.csv']\n",
    "\n",
    "dataframes = []\n",
    "for name in dataset_names:\n",
    "    print(\"Loading\", name)\n",
    "    df = pd.read_csv(name)\n",
    "    dataframes.append(df)\n",
    "\n",
    "# Concatenate all DataFrames vertically\n",
    "combined_df = pd.concat(dataframes, ignore_index=True)\n",
    "\n",
    "# Save to a single CSV\n",
    "combined_df.to_csv('combined_census_data.csv', index=False)\n",
    "print(\"Success, all datasets merged!\")"
   ]
  },
  {
   "cell_type": "markdown",
   "id": "6a5a6696",
   "metadata": {},
   "source": [
    "### Inspect the data to make sure the data cleaning worked and the datasets are all properly combined:"
   ]
  },
  {
   "cell_type": "markdown",
   "id": "aa0e0683",
   "metadata": {},
   "source": [
    "**Checking the number of rows and columns for the full dataset:**"
   ]
  },
  {
   "cell_type": "code",
   "execution_count": 52,
   "id": "78f61373",
   "metadata": {},
   "outputs": [],
   "source": [
    "census_data = pd.read_csv('combined_census_data.csv')"
   ]
  },
  {
   "cell_type": "code",
   "execution_count": 53,
   "id": "f0625e66-9e07-43af-81fc-4e1e7ad373cc",
   "metadata": {},
   "outputs": [
    {
     "data": {
      "text/html": [
       "<div>\n",
       "<style scoped>\n",
       "    .dataframe tbody tr th:only-of-type {\n",
       "        vertical-align: middle;\n",
       "    }\n",
       "\n",
       "    .dataframe tbody tr th {\n",
       "        vertical-align: top;\n",
       "    }\n",
       "\n",
       "    .dataframe thead th {\n",
       "        text-align: right;\n",
       "    }\n",
       "</style>\n",
       "<table border=\"1\" class=\"dataframe\">\n",
       "  <thead>\n",
       "    <tr style=\"text-align: right;\">\n",
       "      <th></th>\n",
       "      <th>year</th>\n",
       "      <th>sample</th>\n",
       "      <th>serial</th>\n",
       "      <th>cbserial</th>\n",
       "      <th>hh_wt</th>\n",
       "      <th>cluster</th>\n",
       "      <th>state_fip</th>\n",
       "      <th>countyfip</th>\n",
       "      <th>strata</th>\n",
       "      <th>group_quarters</th>\n",
       "      <th>...</th>\n",
       "      <th>raced</th>\n",
       "      <th>educ</th>\n",
       "      <th>educd</th>\n",
       "      <th>emp_stat</th>\n",
       "      <th>empl_statd</th>\n",
       "      <th>occ</th>\n",
       "      <th>ind</th>\n",
       "      <th>inctot</th>\n",
       "      <th>ftotinc</th>\n",
       "      <th>poverty</th>\n",
       "    </tr>\n",
       "  </thead>\n",
       "  <tbody>\n",
       "    <tr>\n",
       "      <th>0</th>\n",
       "      <td>2000</td>\n",
       "      <td>200004</td>\n",
       "      <td>7</td>\n",
       "      <td>NaN</td>\n",
       "      <td>600.0</td>\n",
       "      <td>2.000000e+12</td>\n",
       "      <td>6</td>\n",
       "      <td>NaN</td>\n",
       "      <td>6</td>\n",
       "      <td>1</td>\n",
       "      <td>...</td>\n",
       "      <td>100</td>\n",
       "      <td>10</td>\n",
       "      <td>101</td>\n",
       "      <td>1</td>\n",
       "      <td>10</td>\n",
       "      <td>330</td>\n",
       "      <td>819</td>\n",
       "      <td>52000</td>\n",
       "      <td>177000</td>\n",
       "      <td>501</td>\n",
       "    </tr>\n",
       "    <tr>\n",
       "      <th>1</th>\n",
       "      <td>2000</td>\n",
       "      <td>200004</td>\n",
       "      <td>7</td>\n",
       "      <td>NaN</td>\n",
       "      <td>600.0</td>\n",
       "      <td>2.000000e+12</td>\n",
       "      <td>6</td>\n",
       "      <td>NaN</td>\n",
       "      <td>6</td>\n",
       "      <td>1</td>\n",
       "      <td>...</td>\n",
       "      <td>100</td>\n",
       "      <td>11</td>\n",
       "      <td>114</td>\n",
       "      <td>1</td>\n",
       "      <td>10</td>\n",
       "      <td>260</td>\n",
       "      <td>657</td>\n",
       "      <td>125000</td>\n",
       "      <td>177000</td>\n",
       "      <td>501</td>\n",
       "    </tr>\n",
       "    <tr>\n",
       "      <th>2</th>\n",
       "      <td>2000</td>\n",
       "      <td>200004</td>\n",
       "      <td>21</td>\n",
       "      <td>NaN</td>\n",
       "      <td>1800.0</td>\n",
       "      <td>2.000000e+12</td>\n",
       "      <td>6</td>\n",
       "      <td>NaN</td>\n",
       "      <td>6</td>\n",
       "      <td>1</td>\n",
       "      <td>...</td>\n",
       "      <td>700</td>\n",
       "      <td>6</td>\n",
       "      <td>62</td>\n",
       "      <td>1</td>\n",
       "      <td>10</td>\n",
       "      <td>524</td>\n",
       "      <td>639</td>\n",
       "      <td>6000</td>\n",
       "      <td>6000</td>\n",
       "      <td>44</td>\n",
       "    </tr>\n",
       "    <tr>\n",
       "      <th>3</th>\n",
       "      <td>2000</td>\n",
       "      <td>200004</td>\n",
       "      <td>21</td>\n",
       "      <td>NaN</td>\n",
       "      <td>1800.0</td>\n",
       "      <td>2.000000e+12</td>\n",
       "      <td>6</td>\n",
       "      <td>NaN</td>\n",
       "      <td>6</td>\n",
       "      <td>1</td>\n",
       "      <td>...</td>\n",
       "      <td>700</td>\n",
       "      <td>0</td>\n",
       "      <td>1</td>\n",
       "      <td>0</td>\n",
       "      <td>0</td>\n",
       "      <td>0</td>\n",
       "      <td>0</td>\n",
       "      <td>9999999</td>\n",
       "      <td>6000</td>\n",
       "      <td>44</td>\n",
       "    </tr>\n",
       "    <tr>\n",
       "      <th>4</th>\n",
       "      <td>2000</td>\n",
       "      <td>200004</td>\n",
       "      <td>21</td>\n",
       "      <td>NaN</td>\n",
       "      <td>1800.0</td>\n",
       "      <td>2.000000e+12</td>\n",
       "      <td>6</td>\n",
       "      <td>NaN</td>\n",
       "      <td>6</td>\n",
       "      <td>1</td>\n",
       "      <td>...</td>\n",
       "      <td>700</td>\n",
       "      <td>1</td>\n",
       "      <td>10</td>\n",
       "      <td>0</td>\n",
       "      <td>0</td>\n",
       "      <td>0</td>\n",
       "      <td>0</td>\n",
       "      <td>9999999</td>\n",
       "      <td>6000</td>\n",
       "      <td>44</td>\n",
       "    </tr>\n",
       "  </tbody>\n",
       "</table>\n",
       "<p>5 rows × 37 columns</p>\n",
       "</div>"
      ],
      "text/plain": [
       "   year  sample  serial  cbserial   hh_wt       cluster  state_fip  countyfip  \\\n",
       "0  2000  200004       7       NaN   600.0  2.000000e+12          6        NaN   \n",
       "1  2000  200004       7       NaN   600.0  2.000000e+12          6        NaN   \n",
       "2  2000  200004      21       NaN  1800.0  2.000000e+12          6        NaN   \n",
       "3  2000  200004      21       NaN  1800.0  2.000000e+12          6        NaN   \n",
       "4  2000  200004      21       NaN  1800.0  2.000000e+12          6        NaN   \n",
       "\n",
       "   strata  group_quarters  ...  raced  educ  educd  emp_stat  empl_statd  occ  \\\n",
       "0       6               1  ...    100    10    101         1          10  330   \n",
       "1       6               1  ...    100    11    114         1          10  260   \n",
       "2       6               1  ...    700     6     62         1          10  524   \n",
       "3       6               1  ...    700     0      1         0           0    0   \n",
       "4       6               1  ...    700     1     10         0           0    0   \n",
       "\n",
       "   ind   inctot  ftotinc  poverty  \n",
       "0  819    52000   177000      501  \n",
       "1  657   125000   177000      501  \n",
       "2  639     6000     6000       44  \n",
       "3    0  9999999     6000       44  \n",
       "4    0  9999999     6000       44  \n",
       "\n",
       "[5 rows x 37 columns]"
      ]
     },
     "execution_count": 53,
     "metadata": {},
     "output_type": "execute_result"
    }
   ],
   "source": [
    "census_data.head()"
   ]
  },
  {
   "cell_type": "code",
   "execution_count": 54,
   "id": "e48975b9-3313-4c56-bbfb-d1088c12c621",
   "metadata": {},
   "outputs": [
    {
     "data": {
      "text/plain": [
       "(2198057, 37)"
      ]
     },
     "execution_count": 54,
     "metadata": {},
     "output_type": "execute_result"
    }
   ],
   "source": [
    "census_data.shape"
   ]
  },
  {
   "cell_type": "markdown",
   "id": "926135d0-18b1-46cc-af8c-d694284d8a74",
   "metadata": {},
   "source": [
    "**Do any final data cleaning steps of the full dataset:**"
   ]
  },
  {
   "cell_type": "code",
   "execution_count": 55,
   "id": "5fefb32e-1f7c-4606-b152-51e9d05c6093",
   "metadata": {},
   "outputs": [
    {
     "name": "stdout",
     "output_type": "stream",
     "text": [
      "<class 'pandas.core.frame.DataFrame'>\n",
      "RangeIndex: 2198057 entries, 0 to 2198056\n",
      "Data columns (total 37 columns):\n",
      " #   Column          Dtype  \n",
      "---  ------          -----  \n",
      " 0   year            int64  \n",
      " 1   sample          int64  \n",
      " 2   serial          int64  \n",
      " 3   cbserial        float64\n",
      " 4   hh_wt           float64\n",
      " 5   cluster         float64\n",
      " 6   state_fip       int64  \n",
      " 7   countyfip       float64\n",
      " 8   strata          int64  \n",
      " 9   group_quarters  int64  \n",
      " 10  ownershp        int64  \n",
      " 11  ownershpd       int64  \n",
      " 12  mortgage        int64  \n",
      " 13  prop_insr       int64  \n",
      " 14  rent            int64  \n",
      " 15  cost_elec       int64  \n",
      " 16  cost_gas        int64  \n",
      " 17  hh_income       int64  \n",
      " 18  house_val       int64  \n",
      " 19  coupletype      float64\n",
      " 20  family_num      int64  \n",
      " 21  person_num      int64  \n",
      " 22  person_wt       float64\n",
      " 23  sex             int64  \n",
      " 24  age             int64  \n",
      " 25  marst           int64  \n",
      " 26  race            int64  \n",
      " 27  raced           int64  \n",
      " 28  educ            int64  \n",
      " 29  educd           int64  \n",
      " 30  emp_stat        int64  \n",
      " 31  empl_statd      int64  \n",
      " 32  occ             int64  \n",
      " 33  ind             int64  \n",
      " 34  inctot          int64  \n",
      " 35  ftotinc         int64  \n",
      " 36  poverty         int64  \n",
      "dtypes: float64(6), int64(31)\n",
      "memory usage: 620.5 MB\n"
     ]
    }
   ],
   "source": [
    "census_data.info()"
   ]
  },
  {
   "cell_type": "code",
   "execution_count": 56,
   "id": "52a0e0cb-8475-47b4-a015-bbeabff8c340",
   "metadata": {},
   "outputs": [
    {
     "data": {
      "text/plain": [
       "0"
      ]
     },
     "execution_count": 56,
     "metadata": {},
     "output_type": "execute_result"
    }
   ],
   "source": [
    "census_data.duplicated().sum()"
   ]
  },
  {
   "cell_type": "code",
   "execution_count": 57,
   "id": "816b9962-39c3-4f31-9627-ba6194626d26",
   "metadata": {},
   "outputs": [
    {
     "data": {
      "text/plain": [
       "cbserial       329111\n",
       "countyfip       38143\n",
       "coupletype    2198057\n",
       "dtype: int64"
      ]
     },
     "execution_count": 57,
     "metadata": {},
     "output_type": "execute_result"
    }
   ],
   "source": [
    "census_data.isna().sum()[census_data.isna().sum() > 0]"
   ]
  },
  {
   "cell_type": "markdown",
   "id": "dc9cafff",
   "metadata": {},
   "source": [
    "**Drop coupletype column as it only contains null values:**"
   ]
  },
  {
   "cell_type": "code",
   "execution_count": 58,
   "id": "d28837c1-aeb2-4c74-a0a9-20648e72824a",
   "metadata": {},
   "outputs": [
    {
     "data": {
      "text/plain": [
       "(2198057, 36)"
      ]
     },
     "execution_count": 58,
     "metadata": {},
     "output_type": "execute_result"
    }
   ],
   "source": [
    "census_data=census_data.drop(columns='coupletype')\n",
    "census_data.shape"
   ]
  },
  {
   "cell_type": "markdown",
   "id": "21b175e0",
   "metadata": {},
   "source": [
    "**Check for any columns that aren't useful (contain only one value) and remove them from full dataset:**"
   ]
  },
  {
   "cell_type": "code",
   "execution_count": 59,
   "id": "8d1cfacd-6ef2-4c6d-bc02-79653b354e0a",
   "metadata": {},
   "outputs": [
    {
     "data": {
      "text/plain": [
       "state_fip    True\n",
       "dtype: bool"
      ]
     },
     "execution_count": 59,
     "metadata": {},
     "output_type": "execute_result"
    }
   ],
   "source": [
    "(census_data.nunique()==1)[census_data.nunique()== 1]"
   ]
  },
  {
   "cell_type": "code",
   "execution_count": 60,
   "id": "91e073c4-84bf-4f5c-9cdf-2a8a338a9eff",
   "metadata": {},
   "outputs": [
    {
     "data": {
      "text/plain": [
       "(2198057, 35)"
      ]
     },
     "execution_count": 60,
     "metadata": {},
     "output_type": "execute_result"
    }
   ],
   "source": [
    "census_data=census_data.drop(columns='state_fip')\n",
    "census_data.shape"
   ]
  },
  {
   "cell_type": "markdown",
   "id": "e96b6bf5",
   "metadata": {},
   "source": [
    "## Exploratory Data Analysis"
   ]
  },
  {
   "cell_type": "markdown",
   "id": "b88b8218",
   "metadata": {},
   "source": [
    "### How has median income in California changed from 1990 to 2023?"
   ]
  },
  {
   "cell_type": "markdown",
   "id": "4bde71ab",
   "metadata": {},
   "source": [
    "**First, remove N/A values (denoted by 9999999) from the Household Income (hh_income) column to prevent data from being skewed:**"
   ]
  },
  {
   "cell_type": "code",
   "execution_count": 61,
   "id": "d70df573",
   "metadata": {},
   "outputs": [
    {
     "data": {
      "text/plain": [
       "74002040"
      ]
     },
     "execution_count": 61,
     "metadata": {},
     "output_type": "execute_result"
    }
   ],
   "source": [
    "hh_income_data = census_data[census_data['hh_income'] != 9999999]\n",
    "hh_income_data.size"
   ]
  },
  {
   "cell_type": "markdown",
   "id": "2f04893a",
   "metadata": {},
   "source": [
    "**Calculate the median income by year in California (to see exact values).**"
   ]
  },
  {
   "cell_type": "code",
   "execution_count": 89,
   "id": "43df1b93",
   "metadata": {},
   "outputs": [
    {
     "data": {
      "text/plain": [
       "year\n",
       "1990     40069.5\n",
       "2000     56000.0\n",
       "2006     66000.0\n",
       "2011     65000.0\n",
       "2016     80000.0\n",
       "2021    100000.0\n",
       "2023    114800.0\n",
       "Name: hh_income, dtype: float64"
      ]
     },
     "execution_count": 89,
     "metadata": {},
     "output_type": "execute_result"
    }
   ],
   "source": [
    "hh_income_data.groupby('year')['hh_income'].median()"
   ]
  },
  {
   "cell_type": "markdown",
   "id": "f8435c23",
   "metadata": {},
   "source": [
    "**Create a bar plot of household income by year for the entire state of California:**\n",
    "\n",
    "It looks like median income has gone up substantially (almost tripled) between 1990 and 2023, with a small dip between 2006 and 2011."
   ]
  },
  {
   "cell_type": "code",
   "execution_count": 62,
   "id": "1e2f59de",
   "metadata": {},
   "outputs": [
    {
     "data": {
      "image/png": "[encoded data removed]",
      "text/plain": [
       "<Figure size 640x480 with 1 Axes>"
      ]
     },
     "metadata": {},
     "output_type": "display_data"
    }
   ],
   "source": [
    "sns.barplot(data=hh_income_data, x='year', y='hh_income', estimator=np.median)\n",
    "\n",
    "plt.xlabel(\"Year\")\n",
    "plt.ylabel(\"Household Income\")\n",
    "plt.title(\"California Median Income by Year\")\n",
    "plt.show()"
   ]
  },
  {
   "cell_type": "markdown",
   "id": "996ed558",
   "metadata": {},
   "source": [
    "### How has income distribution changed in California between 1990 and 2023?\n",
    "\n",
    "**Create a violin plot of income distribution in California for each of the years in the dataset.**\n",
    "\n",
    "The range of incomes appears to have qudarupled between 2023 as compared to 1990, with the incomes of the highest earners rising much quicker than those of the lowest and middle earners. Also of note is a big dip in incomes between 2006 and 2011, especially for the highest earners."
   ]
  },
  {
   "cell_type": "code",
   "execution_count": 63,
   "id": "e5743051",
   "metadata": {},
   "outputs": [
    {
     "data": {
      "image/png": "[encoded data removed]",
      "text/plain": [
       "<Figure size 1000x600 with 1 Axes>"
      ]
     },
     "metadata": {},
     "output_type": "display_data"
    }
   ],
   "source": [
    "plt.figure(figsize=(10, 6))\n",
    "sns.violinplot(data=hh_income_data, y='hh_income', x='year')\n",
    "\n",
    "plt.xlabel(\"Year\")\n",
    "plt.ylabel(\"Household Income (Millions of $)\")\n",
    "plt.title(\"California Income Distribution by Year\")\n",
    "plt.show()"
   ]
  },
  {
   "cell_type": "markdown",
   "id": "cc1be185",
   "metadata": {},
   "source": [
    "### How has the proportion of renters vs. owners changed in California from 1990 to 2023?"
   ]
  },
  {
   "cell_type": "markdown",
   "id": "477ba41d",
   "metadata": {},
   "source": [
    "**Rename ownership categories from numerical values to more descriptive names and then get a count of the values in each category (Rent, Own, and NA):** "
   ]
  },
  {
   "cell_type": "code",
   "execution_count": 64,
   "id": "e5a9cfc3",
   "metadata": {},
   "outputs": [
    {
     "data": {
      "text/html": [
       "<div>\n",
       "<style scoped>\n",
       "    .dataframe tbody tr th:only-of-type {\n",
       "        vertical-align: middle;\n",
       "    }\n",
       "\n",
       "    .dataframe tbody tr th {\n",
       "        vertical-align: top;\n",
       "    }\n",
       "\n",
       "    .dataframe thead th {\n",
       "        text-align: right;\n",
       "    }\n",
       "</style>\n",
       "<table border=\"1\" class=\"dataframe\">\n",
       "  <thead>\n",
       "    <tr style=\"text-align: right;\">\n",
       "      <th></th>\n",
       "      <th>year</th>\n",
       "      <th>ownershp</th>\n",
       "      <th>count</th>\n",
       "    </tr>\n",
       "  </thead>\n",
       "  <tbody>\n",
       "    <tr>\n",
       "      <th>0</th>\n",
       "      <td>1990</td>\n",
       "      <td>NA</td>\n",
       "      <td>5860</td>\n",
       "    </tr>\n",
       "    <tr>\n",
       "      <th>1</th>\n",
       "      <td>1990</td>\n",
       "      <td>Own</td>\n",
       "      <td>167622</td>\n",
       "    </tr>\n",
       "    <tr>\n",
       "      <th>2</th>\n",
       "      <td>1990</td>\n",
       "      <td>Rent</td>\n",
       "      <td>117486</td>\n",
       "    </tr>\n",
       "    <tr>\n",
       "      <th>3</th>\n",
       "      <td>2000</td>\n",
       "      <td>Own</td>\n",
       "      <td>24063</td>\n",
       "    </tr>\n",
       "    <tr>\n",
       "      <th>4</th>\n",
       "      <td>2000</td>\n",
       "      <td>Rent</td>\n",
       "      <td>14080</td>\n",
       "    </tr>\n",
       "  </tbody>\n",
       "</table>\n",
       "</div>"
      ],
      "text/plain": [
       "   year ownershp   count\n",
       "0  1990       NA    5860\n",
       "1  1990      Own  167622\n",
       "2  1990     Rent  117486\n",
       "3  2000      Own   24063\n",
       "4  2000     Rent   14080"
      ]
     },
     "execution_count": 64,
     "metadata": {},
     "output_type": "execute_result"
    }
   ],
   "source": [
    "ownership = census_data[['year','ownershp']]\n",
    "ownership['ownershp'] = ownership['ownershp'].replace({0: 'NA', 1: 'Own', 2: 'Rent'})\n",
    "ownership_by_year = pd.DataFrame(ownership.groupby(['year', 'ownershp']).value_counts()).reset_index()\n",
    "ownership_by_year.head()"
   ]
  },
  {
   "cell_type": "markdown",
   "id": "ac970838",
   "metadata": {},
   "source": [
    "**Calculate the total number of family units for each year and merge the data with the count values in each ownership category (Rent, Own, and NA). Then, create a new column in the table containing the proportion of renters, owners, and NA for each year.**"
   ]
  },
  {
   "cell_type": "code",
   "execution_count": 65,
   "id": "2cc0a033",
   "metadata": {},
   "outputs": [
    {
     "data": {
      "text/html": [
       "<div>\n",
       "<style scoped>\n",
       "    .dataframe tbody tr th:only-of-type {\n",
       "        vertical-align: middle;\n",
       "    }\n",
       "\n",
       "    .dataframe tbody tr th {\n",
       "        vertical-align: top;\n",
       "    }\n",
       "\n",
       "    .dataframe thead th {\n",
       "        text-align: right;\n",
       "    }\n",
       "</style>\n",
       "<table border=\"1\" class=\"dataframe\">\n",
       "  <thead>\n",
       "    <tr style=\"text-align: right;\">\n",
       "      <th></th>\n",
       "      <th>year</th>\n",
       "      <th>ownership</th>\n",
       "      <th>count</th>\n",
       "      <th>yearly_total</th>\n",
       "      <th>proportion</th>\n",
       "    </tr>\n",
       "  </thead>\n",
       "  <tbody>\n",
       "    <tr>\n",
       "      <th>0</th>\n",
       "      <td>1990</td>\n",
       "      <td>NA</td>\n",
       "      <td>5860</td>\n",
       "      <td>290968</td>\n",
       "      <td>0.020140</td>\n",
       "    </tr>\n",
       "    <tr>\n",
       "      <th>1</th>\n",
       "      <td>1990</td>\n",
       "      <td>Own</td>\n",
       "      <td>167622</td>\n",
       "      <td>290968</td>\n",
       "      <td>0.576084</td>\n",
       "    </tr>\n",
       "    <tr>\n",
       "      <th>2</th>\n",
       "      <td>1990</td>\n",
       "      <td>Rent</td>\n",
       "      <td>117486</td>\n",
       "      <td>290968</td>\n",
       "      <td>0.403776</td>\n",
       "    </tr>\n",
       "    <tr>\n",
       "      <th>3</th>\n",
       "      <td>2000</td>\n",
       "      <td>Own</td>\n",
       "      <td>24063</td>\n",
       "      <td>38143</td>\n",
       "      <td>0.630863</td>\n",
       "    </tr>\n",
       "    <tr>\n",
       "      <th>4</th>\n",
       "      <td>2000</td>\n",
       "      <td>Rent</td>\n",
       "      <td>14080</td>\n",
       "      <td>38143</td>\n",
       "      <td>0.369137</td>\n",
       "    </tr>\n",
       "  </tbody>\n",
       "</table>\n",
       "</div>"
      ],
      "text/plain": [
       "   year ownership   count  yearly_total  proportion\n",
       "0  1990        NA    5860        290968    0.020140\n",
       "1  1990       Own  167622        290968    0.576084\n",
       "2  1990      Rent  117486        290968    0.403776\n",
       "3  2000       Own   24063         38143    0.630863\n",
       "4  2000      Rent   14080         38143    0.369137"
      ]
     },
     "execution_count": 65,
     "metadata": {},
     "output_type": "execute_result"
    }
   ],
   "source": [
    "ownership_by_year_totals = ownership.groupby('year').count()\n",
    "ownership_by_year_totals = pd.merge(ownership_by_year, ownership_by_year_totals, on='year', how='inner')\n",
    "ownership_by_year_totals = ownership_by_year_totals.rename(columns={'ownershp_y': 'yearly_total', 'ownershp_x':'ownership'})\n",
    "ownership_by_year_totals['proportion'] = ownership_by_year_totals['count']/ownership_by_year_totals['yearly_total']\n",
    "ownership_by_year_totals.head()"
   ]
  },
  {
   "cell_type": "markdown",
   "id": "14d1d4ff",
   "metadata": {},
   "source": [
    "**Create a bar plot of the proportion of renters, owners, and NA by year for all of California.**\n",
    "\n",
    "It looks like there the proportion of homeowners to renters was steadily increasing up until 2006 and then abruptly declined before starting to slowly rise again leading up to 2023."
   ]
  },
  {
   "cell_type": "code",
   "execution_count": 66,
   "id": "39f94a53",
   "metadata": {},
   "outputs": [
    {
     "data": {
      "image/png": "[encoded data removed]",
      "text/plain": [
       "<Figure size 640x480 with 1 Axes>"
      ]
     },
     "metadata": {},
     "output_type": "display_data"
    }
   ],
   "source": [
    "sns.barplot(data=pd.DataFrame(ownership_by_year_totals), y='proportion', x='year', hue='ownership')\n",
    "\n",
    "plt.xlabel(\"Year\")\n",
    "plt.ylabel(\"Proportion\")\n",
    "plt.title(\"California Renters vs. Home Owners by Year\")\n",
    "plt.show()"
   ]
  },
  {
   "cell_type": "markdown",
   "id": "280464ea",
   "metadata": {},
   "source": [
    "### What is the median income of the highest, middle-high, middle, middle-low, and lowest earners (in 20% increments) by year in California?\n",
    "\n",
    "**Add a column to the dataset categorizing the records of each year by income bracket.**"
   ]
  },
  {
   "cell_type": "code",
   "execution_count": 67,
   "id": "583546cd",
   "metadata": {},
   "outputs": [
    {
     "data": {
      "text/html": [
       "<div>\n",
       "<style scoped>\n",
       "    .dataframe tbody tr th:only-of-type {\n",
       "        vertical-align: middle;\n",
       "    }\n",
       "\n",
       "    .dataframe tbody tr th {\n",
       "        vertical-align: top;\n",
       "    }\n",
       "\n",
       "    .dataframe thead th {\n",
       "        text-align: right;\n",
       "    }\n",
       "</style>\n",
       "<table border=\"1\" class=\"dataframe\">\n",
       "  <thead>\n",
       "    <tr style=\"text-align: right;\">\n",
       "      <th></th>\n",
       "      <th>year</th>\n",
       "      <th>sample</th>\n",
       "      <th>serial</th>\n",
       "      <th>cbserial</th>\n",
       "      <th>hh_wt</th>\n",
       "      <th>cluster</th>\n",
       "      <th>countyfip</th>\n",
       "      <th>strata</th>\n",
       "      <th>group_quarters</th>\n",
       "      <th>ownershp</th>\n",
       "      <th>...</th>\n",
       "      <th>educd</th>\n",
       "      <th>emp_stat</th>\n",
       "      <th>empl_statd</th>\n",
       "      <th>occ</th>\n",
       "      <th>ind</th>\n",
       "      <th>inctot</th>\n",
       "      <th>ftotinc</th>\n",
       "      <th>poverty</th>\n",
       "      <th>income_prop</th>\n",
       "      <th>income_category</th>\n",
       "    </tr>\n",
       "  </thead>\n",
       "  <tbody>\n",
       "    <tr>\n",
       "      <th>0</th>\n",
       "      <td>1990</td>\n",
       "      <td>199002</td>\n",
       "      <td>46452</td>\n",
       "      <td>NaN</td>\n",
       "      <td>52.0</td>\n",
       "      <td>1.990000e+12</td>\n",
       "      <td>0.0</td>\n",
       "      <td>57</td>\n",
       "      <td>1</td>\n",
       "      <td>1</td>\n",
       "      <td>...</td>\n",
       "      <td>2</td>\n",
       "      <td>3</td>\n",
       "      <td>30</td>\n",
       "      <td>0</td>\n",
       "      <td>0</td>\n",
       "      <td>3984</td>\n",
       "      <td>3984</td>\n",
       "      <td>53</td>\n",
       "      <td>0.081267</td>\n",
       "      <td>Lowest</td>\n",
       "    </tr>\n",
       "    <tr>\n",
       "      <th>1</th>\n",
       "      <td>1990</td>\n",
       "      <td>199002</td>\n",
       "      <td>46452</td>\n",
       "      <td>NaN</td>\n",
       "      <td>52.0</td>\n",
       "      <td>1.990000e+12</td>\n",
       "      <td>0.0</td>\n",
       "      <td>57</td>\n",
       "      <td>1</td>\n",
       "      <td>1</td>\n",
       "      <td>...</td>\n",
       "      <td>40</td>\n",
       "      <td>3</td>\n",
       "      <td>30</td>\n",
       "      <td>0</td>\n",
       "      <td>0</td>\n",
       "      <td>0</td>\n",
       "      <td>3984</td>\n",
       "      <td>53</td>\n",
       "      <td>0.081267</td>\n",
       "      <td>Lowest</td>\n",
       "    </tr>\n",
       "    <tr>\n",
       "      <th>2</th>\n",
       "      <td>1990</td>\n",
       "      <td>199002</td>\n",
       "      <td>46453</td>\n",
       "      <td>NaN</td>\n",
       "      <td>91.0</td>\n",
       "      <td>1.990000e+12</td>\n",
       "      <td>0.0</td>\n",
       "      <td>44</td>\n",
       "      <td>1</td>\n",
       "      <td>2</td>\n",
       "      <td>...</td>\n",
       "      <td>20</td>\n",
       "      <td>1</td>\n",
       "      <td>10</td>\n",
       "      <td>479</td>\n",
       "      <td>10</td>\n",
       "      <td>860</td>\n",
       "      <td>860</td>\n",
       "      <td>13</td>\n",
       "      <td>0.017542</td>\n",
       "      <td>Lowest</td>\n",
       "    </tr>\n",
       "    <tr>\n",
       "      <th>3</th>\n",
       "      <td>1990</td>\n",
       "      <td>199002</td>\n",
       "      <td>46454</td>\n",
       "      <td>NaN</td>\n",
       "      <td>117.0</td>\n",
       "      <td>1.990000e+12</td>\n",
       "      <td>0.0</td>\n",
       "      <td>53</td>\n",
       "      <td>1</td>\n",
       "      <td>1</td>\n",
       "      <td>...</td>\n",
       "      <td>30</td>\n",
       "      <td>3</td>\n",
       "      <td>30</td>\n",
       "      <td>0</td>\n",
       "      <td>0</td>\n",
       "      <td>13535</td>\n",
       "      <td>16929</td>\n",
       "      <td>226</td>\n",
       "      <td>0.345322</td>\n",
       "      <td>Middle-low</td>\n",
       "    </tr>\n",
       "    <tr>\n",
       "      <th>4</th>\n",
       "      <td>1990</td>\n",
       "      <td>199002</td>\n",
       "      <td>46454</td>\n",
       "      <td>NaN</td>\n",
       "      <td>117.0</td>\n",
       "      <td>1.990000e+12</td>\n",
       "      <td>0.0</td>\n",
       "      <td>53</td>\n",
       "      <td>1</td>\n",
       "      <td>1</td>\n",
       "      <td>...</td>\n",
       "      <td>50</td>\n",
       "      <td>3</td>\n",
       "      <td>30</td>\n",
       "      <td>0</td>\n",
       "      <td>0</td>\n",
       "      <td>3394</td>\n",
       "      <td>16929</td>\n",
       "      <td>226</td>\n",
       "      <td>0.345322</td>\n",
       "      <td>Middle-low</td>\n",
       "    </tr>\n",
       "  </tbody>\n",
       "</table>\n",
       "<p>5 rows × 37 columns</p>\n",
       "</div>"
      ],
      "text/plain": [
       "   year  sample  serial  cbserial  hh_wt       cluster  countyfip  strata  \\\n",
       "0  1990  199002   46452       NaN   52.0  1.990000e+12        0.0      57   \n",
       "1  1990  199002   46452       NaN   52.0  1.990000e+12        0.0      57   \n",
       "2  1990  199002   46453       NaN   91.0  1.990000e+12        0.0      44   \n",
       "3  1990  199002   46454       NaN  117.0  1.990000e+12        0.0      53   \n",
       "4  1990  199002   46454       NaN  117.0  1.990000e+12        0.0      53   \n",
       "\n",
       "   group_quarters  ownershp  ...  educd  emp_stat  empl_statd  occ  ind  \\\n",
       "0               1         1  ...      2         3          30    0    0   \n",
       "1               1         1  ...     40         3          30    0    0   \n",
       "2               1         2  ...     20         1          10  479   10   \n",
       "3               1         1  ...     30         3          30    0    0   \n",
       "4               1         1  ...     50         3          30    0    0   \n",
       "\n",
       "   inctot  ftotinc  poverty  income_prop  income_category  \n",
       "0    3984     3984       53     0.081267           Lowest  \n",
       "1       0     3984       53     0.081267           Lowest  \n",
       "2     860      860       13     0.017542           Lowest  \n",
       "3   13535    16929      226     0.345322       Middle-low  \n",
       "4    3394    16929      226     0.345322       Middle-low  \n",
       "\n",
       "[5 rows x 37 columns]"
      ]
     },
     "execution_count": 67,
     "metadata": {},
     "output_type": "execute_result"
    }
   ],
   "source": [
    "def categorize(value):\n",
    "        if value > .80:\n",
    "            return 'Highest'\n",
    "        elif value >= .60:\n",
    "            return 'Middle-high'\n",
    "        elif value >= .40:\n",
    "            return 'Middle'\n",
    "        elif value >= .20:\n",
    "            return 'Middle-low'\n",
    "        else:\n",
    "            return 'Lowest'\n",
    "\n",
    "hh_income_1990 = hh_income_data[hh_income_data['year']==1990]\n",
    "hh_income_1990['income_prop'] = hh_income_1990['hh_income']/hh_income_1990['hh_income'].mean()\n",
    "hh_income_1990['income_category'] = hh_income_1990['income_prop'].apply(categorize)\n",
    "\n",
    "hh_income_2000 = hh_income_data[hh_income_data['year']==2000]\n",
    "hh_income_2000['income_prop'] = hh_income_2000['hh_income']/hh_income_2000['hh_income'].mean()\n",
    "hh_income_2000['income_category'] = hh_income_2000['income_prop'].apply(categorize)\n",
    "\n",
    "hh_income_2006 = hh_income_data[hh_income_data['year']==2006]\n",
    "hh_income_2006['income_prop'] = hh_income_2006['hh_income']/hh_income_2006['hh_income'].mean()\n",
    "hh_income_2006['income_category'] = hh_income_2006['income_prop'].apply(categorize)\n",
    "\n",
    "hh_income_2011 = hh_income_data[hh_income_data['year']==2011]\n",
    "hh_income_2011['income_prop'] = hh_income_2011['hh_income']/hh_income_2011['hh_income'].mean()\n",
    "hh_income_2011['income_category'] = hh_income_2011['income_prop'].apply(categorize)\n",
    "\n",
    "hh_income_2016 = hh_income_data[hh_income_data['year']==2016]\n",
    "hh_income_2016['income_prop'] = hh_income_2016['hh_income']/hh_income_2016['hh_income'].mean()\n",
    "hh_income_2016['income_category'] = hh_income_2016['income_prop'].apply(categorize)\n",
    "\n",
    "hh_income_2021 = hh_income_data[hh_income_data['year']==2021]\n",
    "hh_income_2021['income_prop'] = hh_income_2021['hh_income']/hh_income_2021['hh_income'].mean()\n",
    "hh_income_2021['income_category'] = hh_income_2021['income_prop'].apply(categorize)\n",
    "\n",
    "hh_income_2023 = hh_income_data[hh_income_data['year']==2023]\n",
    "hh_income_2023['income_prop'] = hh_income_2023['hh_income']/hh_income_2023['hh_income'].mean()\n",
    "hh_income_2023['income_category'] = hh_income_2023['income_prop'].apply(categorize)\n",
    "\n",
    "hh_income_categories = pd.concat([hh_income_1990, hh_income_2000, hh_income_2006, hh_income_2011, hh_income_2016, hh_income_2021, hh_income_2023], ignore_index=True)\n",
    "hh_income_categories.head()"
   ]
  },
  {
   "cell_type": "markdown",
   "id": "5a8c5701",
   "metadata": {},
   "source": [
    "**Calculate the median income of each of the five income categories by year.**"
   ]
  },
  {
   "cell_type": "code",
   "execution_count": 68,
   "id": "cd9e55fd",
   "metadata": {},
   "outputs": [
    {
     "data": {
      "text/html": [
       "<div>\n",
       "<style scoped>\n",
       "    .dataframe tbody tr th:only-of-type {\n",
       "        vertical-align: middle;\n",
       "    }\n",
       "\n",
       "    .dataframe tbody tr th {\n",
       "        vertical-align: top;\n",
       "    }\n",
       "\n",
       "    .dataframe thead th {\n",
       "        text-align: right;\n",
       "    }\n",
       "</style>\n",
       "<table border=\"1\" class=\"dataframe\">\n",
       "  <thead>\n",
       "    <tr style=\"text-align: right;\">\n",
       "      <th></th>\n",
       "      <th>year</th>\n",
       "      <th>income_category</th>\n",
       "      <th>hh_income</th>\n",
       "    </tr>\n",
       "  </thead>\n",
       "  <tbody>\n",
       "    <tr>\n",
       "      <th>0</th>\n",
       "      <td>1990</td>\n",
       "      <td>Highest</td>\n",
       "      <td>62424.0</td>\n",
       "    </tr>\n",
       "    <tr>\n",
       "      <th>1</th>\n",
       "      <td>1990</td>\n",
       "      <td>Lowest</td>\n",
       "      <td>6333.0</td>\n",
       "    </tr>\n",
       "    <tr>\n",
       "      <th>2</th>\n",
       "      <td>1990</td>\n",
       "      <td>Middle</td>\n",
       "      <td>24658.0</td>\n",
       "    </tr>\n",
       "    <tr>\n",
       "      <th>3</th>\n",
       "      <td>1990</td>\n",
       "      <td>Middle-high</td>\n",
       "      <td>34000.0</td>\n",
       "    </tr>\n",
       "    <tr>\n",
       "      <th>4</th>\n",
       "      <td>1990</td>\n",
       "      <td>Middle-low</td>\n",
       "      <td>15000.0</td>\n",
       "    </tr>\n",
       "    <tr>\n",
       "      <th>5</th>\n",
       "      <td>2000</td>\n",
       "      <td>Highest</td>\n",
       "      <td>95500.0</td>\n",
       "    </tr>\n",
       "    <tr>\n",
       "      <th>6</th>\n",
       "      <td>2000</td>\n",
       "      <td>Lowest</td>\n",
       "      <td>9500.0</td>\n",
       "    </tr>\n",
       "    <tr>\n",
       "      <th>7</th>\n",
       "      <td>2000</td>\n",
       "      <td>Middle</td>\n",
       "      <td>36600.0</td>\n",
       "    </tr>\n",
       "    <tr>\n",
       "      <th>8</th>\n",
       "      <td>2000</td>\n",
       "      <td>Middle-high</td>\n",
       "      <td>51200.0</td>\n",
       "    </tr>\n",
       "    <tr>\n",
       "      <th>9</th>\n",
       "      <td>2000</td>\n",
       "      <td>Middle-low</td>\n",
       "      <td>22200.0</td>\n",
       "    </tr>\n",
       "    <tr>\n",
       "      <th>10</th>\n",
       "      <td>2006</td>\n",
       "      <td>Highest</td>\n",
       "      <td>112400.0</td>\n",
       "    </tr>\n",
       "    <tr>\n",
       "      <th>11</th>\n",
       "      <td>2006</td>\n",
       "      <td>Lowest</td>\n",
       "      <td>11000.0</td>\n",
       "    </tr>\n",
       "    <tr>\n",
       "      <th>12</th>\n",
       "      <td>2006</td>\n",
       "      <td>Middle</td>\n",
       "      <td>43400.0</td>\n",
       "    </tr>\n",
       "    <tr>\n",
       "      <th>13</th>\n",
       "      <td>2006</td>\n",
       "      <td>Middle-high</td>\n",
       "      <td>60200.0</td>\n",
       "    </tr>\n",
       "    <tr>\n",
       "      <th>14</th>\n",
       "      <td>2006</td>\n",
       "      <td>Middle-low</td>\n",
       "      <td>26000.0</td>\n",
       "    </tr>\n",
       "    <tr>\n",
       "      <th>15</th>\n",
       "      <td>2011</td>\n",
       "      <td>Highest</td>\n",
       "      <td>119200.0</td>\n",
       "    </tr>\n",
       "    <tr>\n",
       "      <th>16</th>\n",
       "      <td>2011</td>\n",
       "      <td>Lowest</td>\n",
       "      <td>10800.0</td>\n",
       "    </tr>\n",
       "    <tr>\n",
       "      <th>17</th>\n",
       "      <td>2011</td>\n",
       "      <td>Middle</td>\n",
       "      <td>44300.0</td>\n",
       "    </tr>\n",
       "    <tr>\n",
       "      <th>18</th>\n",
       "      <td>2011</td>\n",
       "      <td>Middle-high</td>\n",
       "      <td>61700.0</td>\n",
       "    </tr>\n",
       "    <tr>\n",
       "      <th>19</th>\n",
       "      <td>2011</td>\n",
       "      <td>Middle-low</td>\n",
       "      <td>26400.0</td>\n",
       "    </tr>\n",
       "    <tr>\n",
       "      <th>20</th>\n",
       "      <td>2016</td>\n",
       "      <td>Highest</td>\n",
       "      <td>147600.0</td>\n",
       "    </tr>\n",
       "    <tr>\n",
       "      <th>21</th>\n",
       "      <td>2016</td>\n",
       "      <td>Lowest</td>\n",
       "      <td>13300.0</td>\n",
       "    </tr>\n",
       "    <tr>\n",
       "      <th>22</th>\n",
       "      <td>2016</td>\n",
       "      <td>Middle</td>\n",
       "      <td>55000.0</td>\n",
       "    </tr>\n",
       "    <tr>\n",
       "      <th>23</th>\n",
       "      <td>2016</td>\n",
       "      <td>Middle-high</td>\n",
       "      <td>77000.0</td>\n",
       "    </tr>\n",
       "    <tr>\n",
       "      <th>24</th>\n",
       "      <td>2016</td>\n",
       "      <td>Middle-low</td>\n",
       "      <td>33300.0</td>\n",
       "    </tr>\n",
       "    <tr>\n",
       "      <th>25</th>\n",
       "      <td>2021</td>\n",
       "      <td>Highest</td>\n",
       "      <td>182650.0</td>\n",
       "    </tr>\n",
       "    <tr>\n",
       "      <th>26</th>\n",
       "      <td>2021</td>\n",
       "      <td>Lowest</td>\n",
       "      <td>15200.0</td>\n",
       "    </tr>\n",
       "    <tr>\n",
       "      <th>27</th>\n",
       "      <td>2021</td>\n",
       "      <td>Middle</td>\n",
       "      <td>69000.0</td>\n",
       "    </tr>\n",
       "    <tr>\n",
       "      <th>28</th>\n",
       "      <td>2021</td>\n",
       "      <td>Middle-high</td>\n",
       "      <td>96400.0</td>\n",
       "    </tr>\n",
       "    <tr>\n",
       "      <th>29</th>\n",
       "      <td>2021</td>\n",
       "      <td>Middle-low</td>\n",
       "      <td>42000.0</td>\n",
       "    </tr>\n",
       "    <tr>\n",
       "      <th>30</th>\n",
       "      <td>2023</td>\n",
       "      <td>Highest</td>\n",
       "      <td>203200.0</td>\n",
       "    </tr>\n",
       "    <tr>\n",
       "      <th>31</th>\n",
       "      <td>2023</td>\n",
       "      <td>Lowest</td>\n",
       "      <td>17500.0</td>\n",
       "    </tr>\n",
       "    <tr>\n",
       "      <th>32</th>\n",
       "      <td>2023</td>\n",
       "      <td>Middle</td>\n",
       "      <td>77900.0</td>\n",
       "    </tr>\n",
       "    <tr>\n",
       "      <th>33</th>\n",
       "      <td>2023</td>\n",
       "      <td>Middle-high</td>\n",
       "      <td>108000.0</td>\n",
       "    </tr>\n",
       "    <tr>\n",
       "      <th>34</th>\n",
       "      <td>2023</td>\n",
       "      <td>Middle-low</td>\n",
       "      <td>47600.0</td>\n",
       "    </tr>\n",
       "  </tbody>\n",
       "</table>\n",
       "</div>"
      ],
      "text/plain": [
       "    year income_category  hh_income\n",
       "0   1990         Highest    62424.0\n",
       "1   1990          Lowest     6333.0\n",
       "2   1990          Middle    24658.0\n",
       "3   1990     Middle-high    34000.0\n",
       "4   1990      Middle-low    15000.0\n",
       "5   2000         Highest    95500.0\n",
       "6   2000          Lowest     9500.0\n",
       "7   2000          Middle    36600.0\n",
       "8   2000     Middle-high    51200.0\n",
       "9   2000      Middle-low    22200.0\n",
       "10  2006         Highest   112400.0\n",
       "11  2006          Lowest    11000.0\n",
       "12  2006          Middle    43400.0\n",
       "13  2006     Middle-high    60200.0\n",
       "14  2006      Middle-low    26000.0\n",
       "15  2011         Highest   119200.0\n",
       "16  2011          Lowest    10800.0\n",
       "17  2011          Middle    44300.0\n",
       "18  2011     Middle-high    61700.0\n",
       "19  2011      Middle-low    26400.0\n",
       "20  2016         Highest   147600.0\n",
       "21  2016          Lowest    13300.0\n",
       "22  2016          Middle    55000.0\n",
       "23  2016     Middle-high    77000.0\n",
       "24  2016      Middle-low    33300.0\n",
       "25  2021         Highest   182650.0\n",
       "26  2021          Lowest    15200.0\n",
       "27  2021          Middle    69000.0\n",
       "28  2021     Middle-high    96400.0\n",
       "29  2021      Middle-low    42000.0\n",
       "30  2023         Highest   203200.0\n",
       "31  2023          Lowest    17500.0\n",
       "32  2023          Middle    77900.0\n",
       "33  2023     Middle-high   108000.0\n",
       "34  2023      Middle-low    47600.0"
      ]
     },
     "execution_count": 68,
     "metadata": {},
     "output_type": "execute_result"
    }
   ],
   "source": [
    "hh_med_income_categories = pd.DataFrame(hh_income_categories.groupby(['year', 'income_category'])['hh_income'].median()).reset_index()\n",
    "hh_med_income_categories"
   ]
  },
  {
   "cell_type": "markdown",
   "id": "82afb462",
   "metadata": {},
   "source": [
    "**Create a line plot of the median income in California by income bracket and year.**\n",
    "\n",
    "It looks like the highest earners incomes grew much faster than the lowest earners incomes since 1990 in California. Also of note is an increase in this disparity among income brackets around 2011 or 2012."
   ]
  },
  {
   "cell_type": "code",
   "execution_count": 69,
   "id": "45c5c8c7",
   "metadata": {},
   "outputs": [
    {
     "data": {
      "image/png": "[encoded data removed]",
      "text/plain": [
       "<Figure size 640x480 with 1 Axes>"
      ]
     },
     "metadata": {},
     "output_type": "display_data"
    }
   ],
   "source": [
    "ax = sns.lineplot(data=hh_med_income_categories, x='year', y='hh_income', hue='income_category')\n",
    "\n",
    "plt.xlabel(\"Year\")\n",
    "plt.ylabel(\"Median Income ($)\")\n",
    "plt.title(\"California Median Income by Income Bracket and Year\")\n",
    "\n",
    "# Create legend\n",
    "handles, labels = ax.get_legend_handles_labels()\n",
    "order = [0, 3, 2, 4, 1]\n",
    "ordered_handles = [handles[i] for i in order]\n",
    "ordered_labels = [labels[i] for i in order]\n",
    "ax.legend(ordered_handles, ordered_labels).set_title('Income Bracket')\n",
    "\n",
    "plt.show()"
   ]
  },
  {
   "cell_type": "markdown",
   "id": "ad9903bc",
   "metadata": {},
   "source": [
    "### How has median home value vs. median income changed in California between 1990 and 2023? \n",
    "\n",
    "****First, remove N/A values (denoted by 9999999) from the Household Income (hh_income) column and House Value (house_val) columns to prevent data from being skewed.****"
   ]
  },
  {
   "cell_type": "code",
   "execution_count": 70,
   "id": "123587f3",
   "metadata": {},
   "outputs": [
    {
     "data": {
      "text/plain": [
       "46290090"
      ]
     },
     "execution_count": 70,
     "metadata": {},
     "output_type": "execute_result"
    }
   ],
   "source": [
    "hh_income_and_house_val_data = census_data[(census_data['hh_income'] != 9999999) & (census_data['house_val'] != 9999999)]\n",
    "hh_income_and_house_val_data.size"
   ]
  },
  {
   "cell_type": "markdown",
   "id": "62db2a3b",
   "metadata": {},
   "source": [
    "**Add a column to the dataframe calculating House Value (house_val) / Household Income (hh_income).**"
   ]
  },
  {
   "cell_type": "code",
   "execution_count": 71,
   "id": "d8036b0c",
   "metadata": {},
   "outputs": [
    {
     "data": {
      "text/plain": [
       "5     2.862595\n",
       "6     8.571429\n",
       "7     8.571429\n",
       "9     2.130682\n",
       "10    2.589454\n",
       "Name: house_val_income, dtype: float64"
      ]
     },
     "execution_count": 71,
     "metadata": {},
     "output_type": "execute_result"
    }
   ],
   "source": [
    "hh_income_and_house_val_data['house_val_income'] = hh_income_and_house_val_data['house_val'] / hh_income_and_house_val_data['hh_income']\n",
    "hh_income_and_house_val_data['house_val_income'].head()"
   ]
  },
  {
   "cell_type": "markdown",
   "id": "04a0fa0d",
   "metadata": {},
   "source": [
    "**Create a line plot of median home value vs. median income over time.**\n",
    "\n",
    "Between 1990 and 2000, the price of a house was about 3 to 3.5 times the median income of a household. By 2007, during the housing market crash, it looks like the median cost of a home was about 6 times the median income. By 2011, the cost of a home was about 3.75 times the median income (but likely harder to get due to new mortgage restrictions). Since then, the cost of a home vs. median income has been steadily rising, with the cost of a home about 5 times the median income in 2023. In other words, it looks like it takes a lot more financial resources to buy a home today than it did in the 1990's and early 2000's."
   ]
  },
  {
   "cell_type": "code",
   "execution_count": 72,
   "id": "70ee61d1",
   "metadata": {},
   "outputs": [
    {
     "data": {
      "image/png": "[encoded data removed]",
      "text/plain": [
       "<Figure size 640x480 with 1 Axes>"
      ]
     },
     "metadata": {},
     "output_type": "display_data"
    }
   ],
   "source": [
    "sns.lineplot(data=hh_income_and_house_val_data, x='year', y='house_val_income', estimator=np.median)\n",
    "\n",
    "plt.xlabel(\"Year\")\n",
    "plt.ylabel(\"Median Home Value / Income\")\n",
    "plt.title(\"California Median Home Value vs. Income by Year\")\n",
    "plt.show()"
   ]
  },
  {
   "cell_type": "markdown",
   "id": "aa107c7a",
   "metadata": {},
   "source": [
    "### How has the proportion of income spent on rent changed in California between 1990 and 2023?\n",
    "\n",
    "**First, subset data to only those households that are renting.**"
   ]
  },
  {
   "cell_type": "code",
   "execution_count": 73,
   "id": "f7cd8980",
   "metadata": {},
   "outputs": [],
   "source": [
    "hh_income_and_rent_data = census_data[(census_data['ownershp'] == 2)]"
   ]
  },
  {
   "cell_type": "markdown",
   "id": "e197717a",
   "metadata": {},
   "source": [
    "**Remove N/A values (denoted by 9999999) from the Household Income (hh_income) column to prevent data from being skewed:**"
   ]
  },
  {
   "cell_type": "code",
   "execution_count": 74,
   "id": "93cb19e7",
   "metadata": {},
   "outputs": [],
   "source": [
    "hh_income_and_rent_data = hh_income_and_rent_data[hh_income_and_rent_data['hh_income'] != 9999999]"
   ]
  },
  {
   "cell_type": "markdown",
   "id": "b903711b",
   "metadata": {},
   "source": [
    "**Add a column to the dataframe calculating Annual Rent / Household Income as a %.**"
   ]
  },
  {
   "cell_type": "code",
   "execution_count": 75,
   "id": "934db075",
   "metadata": {},
   "outputs": [],
   "source": [
    "hh_income_and_rent_data['annual_rent'] = hh_income_and_rent_data['rent']*12\n",
    "hh_income_and_rent_data['rent_income'] = (hh_income_and_rent_data['annual_rent'] / hh_income_and_rent_data['hh_income'])*100"
   ]
  },
  {
   "cell_type": "markdown",
   "id": "9e4ea8e3",
   "metadata": {},
   "source": [
    "**Remove rows NaN, infinity, zero, negative values from the newly created column (rent_income) to help subset data to only those households that are actively paying rent.** "
   ]
  },
  {
   "cell_type": "code",
   "execution_count": 76,
   "id": "0aed53e9",
   "metadata": {},
   "outputs": [],
   "source": [
    "hh_income_and_rent_data = hh_income_and_rent_data.dropna(subset=['rent_income'])\n",
    "hh_income_and_rent_data = hh_income_and_rent_data[~np.isinf(hh_income_and_rent_data['rent_income'])]\n",
    "hh_income_and_rent_data = hh_income_and_rent_data[hh_income_and_rent_data['rent_income'] != 0]"
   ]
  },
  {
   "cell_type": "markdown",
   "id": "47260e73",
   "metadata": {},
   "source": [
    "**Create a line plot of the median proportion of income spent on rent over time.**\n",
    "\n",
    "Among renters, it looks like a little over 23% of one's income was spent on rent between 1990 and 2000. This percentage began to rise drastically in the years leading up to, during, and after the housing crisis of 2007-2009, peaking at around 30% of one's income in 2011. While the expected percentage of one's income that is spent on rent has steadily declined since 2011, it was still rent was still around 26% of one's income in 2023, which was several percentage points higher than during the 1990's."
   ]
  },
  {
   "cell_type": "code",
   "execution_count": 77,
   "id": "e6cc8d86",
   "metadata": {},
   "outputs": [
    {
     "data": {
      "image/png": "[encoded data removed]",
      "text/plain": [
       "<Figure size 640x480 with 1 Axes>"
      ]
     },
     "metadata": {},
     "output_type": "display_data"
    }
   ],
   "source": [
    "sns.lineplot(data=hh_income_and_rent_data, x='year', y='rent_income', estimator = np.median)\n",
    "\n",
    "plt.xlabel(\"Year\")\n",
    "plt.ylabel(\"Income Spent on Rent (%)\")\n",
    "plt.title(\"Median Amount of Income Spent on Rent in California by Year\")\n",
    "plt.show()"
   ]
  },
  {
   "cell_type": "markdown",
   "id": "d221efb5",
   "metadata": {},
   "source": [
    "### How has the average monthly rent cost changed in California between 1990 and 2023?\n",
    "\n",
    "**Calculate the average monthly rent by year in California (to see exact values).**"
   ]
  },
  {
   "cell_type": "code",
   "execution_count": 88,
   "id": "1b8b71b2",
   "metadata": {},
   "outputs": [
    {
     "data": {
      "text/plain": [
       "year\n",
       "1990     575.488429\n",
       "2000     796.011257\n",
       "2006    1048.008841\n",
       "2011    1183.541082\n",
       "2016    1409.028311\n",
       "2021    1785.275719\n",
       "2023    2000.966881\n",
       "Name: rent, dtype: float64"
      ]
     },
     "execution_count": 88,
     "metadata": {},
     "output_type": "execute_result"
    }
   ],
   "source": [
    "hh_income_and_rent_data.groupby('year')['rent'].mean()"
   ]
  },
  {
   "cell_type": "markdown",
   "id": "818e0cdd",
   "metadata": {},
   "source": [
    "**Create a bar plot to visualize average monthly rent by year in California.**\n",
    "\n",
    "Median monthly rent has steadily risen from 1990 to 2023, more than tripling in that time frame from around \\\\$575/month in 1990 to \\\\$2000/month in 2023. This means that average monthly rental cost has risen a lot faster than median incomes."
   ]
  },
  {
   "cell_type": "code",
   "execution_count": 83,
   "id": "8dc9c5b7",
   "metadata": {},
   "outputs": [
    {
     "data": {
      "image/png": "[encoded data removed]",
      "text/plain": [
       "<Figure size 640x480 with 1 Axes>"
      ]
     },
     "metadata": {},
     "output_type": "display_data"
    }
   ],
   "source": [
    "sns.barplot(data=hh_income_and_rent_data, x='year', y='rent', estimator=np.mean)\n",
    "\n",
    "plt.xlabel(\"Year\")\n",
    "plt.ylabel(\"Monthly Rent ($)\")\n",
    "plt.title(\"Average Monthly Rental Cost ($) by Year\")\n",
    "plt.show()"
   ]
  },
  {
   "cell_type": "markdown",
   "id": "9e705809",
   "metadata": {},
   "source": [
    "### How has the average home ownership age changed in California between 1990 and 2023?"
   ]
  },
  {
   "cell_type": "markdown",
   "id": "53e92da9",
   "metadata": {},
   "source": [
    "**First, subset data to only those households that own their home.**"
   ]
  },
  {
   "cell_type": "code",
   "execution_count": 90,
   "id": "0abdb149",
   "metadata": {},
   "outputs": [],
   "source": [
    "home_owner_data = census_data[(census_data['ownershp'] == 1)]"
   ]
  },
  {
   "cell_type": "markdown",
   "id": "8acb640a",
   "metadata": {},
   "source": [
    "**Calculate the average homeowner age by year in California (to see exact values).**"
   ]
  },
  {
   "cell_type": "code",
   "execution_count": 91,
   "id": "3ab5c647",
   "metadata": {},
   "outputs": [
    {
     "data": {
      "text/plain": [
       "year\n",
       "1990    37.256536\n",
       "2000    39.531231\n",
       "2006    39.787141\n",
       "2011    42.417636\n",
       "2016    43.763237\n",
       "2021    44.790820\n",
       "2023    45.223756\n",
       "Name: age, dtype: float64"
      ]
     },
     "execution_count": 91,
     "metadata": {},
     "output_type": "execute_result"
    }
   ],
   "source": [
    "home_owner_data.groupby('year')['age'].mean()"
   ]
  },
  {
   "cell_type": "markdown",
   "id": "bad51783",
   "metadata": {},
   "source": [
    "**Create a bar plot of average age of homeowners by year in California.**\n",
    "\n",
    "The average homeowner age in California has steadily risen from about 37 years old in 1990 to 45 years old in 2023."
   ]
  },
  {
   "cell_type": "code",
   "execution_count": 86,
   "id": "7a3b77f1",
   "metadata": {},
   "outputs": [
    {
     "data": {
      "image/png": "[encoded data removed]",
      "text/plain": [
       "<Figure size 640x480 with 1 Axes>"
      ]
     },
     "metadata": {},
     "output_type": "display_data"
    }
   ],
   "source": [
    "sns.barplot(data=home_owner_data, x='year', y='age')\n",
    "\n",
    "plt.xlabel(\"Year\")\n",
    "plt.ylabel(\"Age (years)\")\n",
    "plt.title(\"Average Age of Homeowners in California by Year\")\n",
    "plt.show()"
   ]
  },
  {
   "cell_type": "markdown",
   "id": "1041c959",
   "metadata": {},
   "source": [
    "### How has the median income in California changed by race between 1990 and 2023?\n",
    "\n",
    "**Add column to describe the values in the race category and combine those with similar names.**"
   ]
  },
  {
   "cell_type": "code",
   "execution_count": 121,
   "id": "f8a83707",
   "metadata": {},
   "outputs": [],
   "source": [
    "race_income_data = census_data.copy()\n",
    "race_income_data['race_desc'] = race_income_data['race'].map({1:'White', 2:'Black', 3:'Native American', \n",
    "                                                              4:'Asian', 5:'Asian', 6: 'Asian', 7:'Other/Mixed',\n",
    "                                                              8:'Other/Mixed', 9:'Other/Mixed'})"
   ]
  },
  {
   "cell_type": "markdown",
   "id": "6dbcc333",
   "metadata": {},
   "source": [
    "**Group median income by race and year.**"
   ]
  },
  {
   "cell_type": "code",
   "execution_count": 122,
   "id": "964b8f0d",
   "metadata": {},
   "outputs": [
    {
     "data": {
      "text/html": [
       "<div>\n",
       "<style scoped>\n",
       "    .dataframe tbody tr th:only-of-type {\n",
       "        vertical-align: middle;\n",
       "    }\n",
       "\n",
       "    .dataframe tbody tr th {\n",
       "        vertical-align: top;\n",
       "    }\n",
       "\n",
       "    .dataframe thead th {\n",
       "        text-align: right;\n",
       "    }\n",
       "</style>\n",
       "<table border=\"1\" class=\"dataframe\">\n",
       "  <thead>\n",
       "    <tr style=\"text-align: right;\">\n",
       "      <th></th>\n",
       "      <th>year</th>\n",
       "      <th>race_desc</th>\n",
       "      <th>hh_income</th>\n",
       "    </tr>\n",
       "  </thead>\n",
       "  <tbody>\n",
       "    <tr>\n",
       "      <th>0</th>\n",
       "      <td>1990</td>\n",
       "      <td>Asian</td>\n",
       "      <td>45644.0</td>\n",
       "    </tr>\n",
       "    <tr>\n",
       "      <th>1</th>\n",
       "      <td>1990</td>\n",
       "      <td>Black</td>\n",
       "      <td>32400.0</td>\n",
       "    </tr>\n",
       "    <tr>\n",
       "      <th>2</th>\n",
       "      <td>1990</td>\n",
       "      <td>Native American</td>\n",
       "      <td>31736.0</td>\n",
       "    </tr>\n",
       "    <tr>\n",
       "      <th>3</th>\n",
       "      <td>1990</td>\n",
       "      <td>Other/Mixed</td>\n",
       "      <td>30000.0</td>\n",
       "    </tr>\n",
       "    <tr>\n",
       "      <th>4</th>\n",
       "      <td>1990</td>\n",
       "      <td>White</td>\n",
       "      <td>44000.0</td>\n",
       "    </tr>\n",
       "  </tbody>\n",
       "</table>\n",
       "</div>"
      ],
      "text/plain": [
       "   year        race_desc  hh_income\n",
       "0  1990            Asian    45644.0\n",
       "1  1990            Black    32400.0\n",
       "2  1990  Native American    31736.0\n",
       "3  1990      Other/Mixed    30000.0\n",
       "4  1990            White    44000.0"
      ]
     },
     "execution_count": 122,
     "metadata": {},
     "output_type": "execute_result"
    }
   ],
   "source": [
    "race_income_data = pd.DataFrame(race_income_data.groupby(['year','race_desc'])['hh_income'].median()).reset_index()\n",
    "race_income_data.head()"
   ]
  },
  {
   "cell_type": "markdown",
   "id": "a806a971",
   "metadata": {},
   "source": [
    "**Create a line plot showing how median income has changed by race and year.**\n",
    "\n",
    "Median incomes has risen the fastest for Asians and second fastest for Whites (even though the incomes of these two races were about the same in 1990). Black, Native American, and Mixed/Other median incomes rose at roughly the same rate, but less than Asian-Americans or Whites. Unfortunately, this graph doesn't also show specific changes for Hispanic/Latinos (not added until 2020)."
   ]
  },
  {
   "cell_type": "code",
   "execution_count": 123,
   "id": "9e1a8d96",
   "metadata": {},
   "outputs": [
    {
     "data": {
      "image/png": "[encoded data removed]",
      "text/plain": [
       "<Figure size 640x480 with 1 Axes>"
      ]
     },
     "metadata": {},
     "output_type": "display_data"
    }
   ],
   "source": [
    "sns.lineplot(data=race_income_data, x='year', y='hh_income', hue='race_desc')\n",
    "\n",
    "plt.xlabel(\"Year\")\n",
    "plt.ylabel(\"Median Income ($)\")\n",
    "plt.legend(title='Race')\n",
    "plt.title(\"Median Income by Race Over Time in California\")\n",
    "\n",
    "plt.show()"
   ]
  },
  {
   "cell_type": "markdown",
   "id": "5bb5642c",
   "metadata": {},
   "source": [
    "### How has average monthly rent cost changed by race in California between 1990 and 2023?\n",
    "\n",
    "**Add a column to the rental data table to describe values in the race category.**"
   ]
  },
  {
   "cell_type": "code",
   "execution_count": 132,
   "id": "2deb8417",
   "metadata": {},
   "outputs": [],
   "source": [
    "hh_income_and_rent_data['race_desc'] = hh_income_and_rent_data['race'].map({1:'White', 2:'Black', 3:'Native American', \n",
    "                                                                            4:'Asian', 5:'Asian', 6: 'Asian', 7:'Other/Mixed',\n",
    "                                                                            8:'Other/Mixed', 9:'Other/Mixed'})"
   ]
  },
  {
   "cell_type": "markdown",
   "id": "84ee74f0",
   "metadata": {},
   "source": [
    "**Group average monthly rent by race and year.**"
   ]
  },
  {
   "cell_type": "code",
   "execution_count": 135,
   "id": "50819bf5",
   "metadata": {},
   "outputs": [
    {
     "data": {
      "text/html": [
       "<div>\n",
       "<style scoped>\n",
       "    .dataframe tbody tr th:only-of-type {\n",
       "        vertical-align: middle;\n",
       "    }\n",
       "\n",
       "    .dataframe tbody tr th {\n",
       "        vertical-align: top;\n",
       "    }\n",
       "\n",
       "    .dataframe thead th {\n",
       "        text-align: right;\n",
       "    }\n",
       "</style>\n",
       "<table border=\"1\" class=\"dataframe\">\n",
       "  <thead>\n",
       "    <tr style=\"text-align: right;\">\n",
       "      <th></th>\n",
       "      <th>year</th>\n",
       "      <th>race_desc</th>\n",
       "      <th>rent</th>\n",
       "    </tr>\n",
       "  </thead>\n",
       "  <tbody>\n",
       "    <tr>\n",
       "      <th>0</th>\n",
       "      <td>1990</td>\n",
       "      <td>Asian</td>\n",
       "      <td>594.282105</td>\n",
       "    </tr>\n",
       "    <tr>\n",
       "      <th>1</th>\n",
       "      <td>1990</td>\n",
       "      <td>Black</td>\n",
       "      <td>535.093257</td>\n",
       "    </tr>\n",
       "    <tr>\n",
       "      <th>2</th>\n",
       "      <td>1990</td>\n",
       "      <td>Native American</td>\n",
       "      <td>484.207289</td>\n",
       "    </tr>\n",
       "    <tr>\n",
       "      <th>3</th>\n",
       "      <td>1990</td>\n",
       "      <td>Other/Mixed</td>\n",
       "      <td>511.529825</td>\n",
       "    </tr>\n",
       "    <tr>\n",
       "      <th>4</th>\n",
       "      <td>1990</td>\n",
       "      <td>White</td>\n",
       "      <td>600.327434</td>\n",
       "    </tr>\n",
       "  </tbody>\n",
       "</table>\n",
       "</div>"
      ],
      "text/plain": [
       "   year        race_desc        rent\n",
       "0  1990            Asian  594.282105\n",
       "1  1990            Black  535.093257\n",
       "2  1990  Native American  484.207289\n",
       "3  1990      Other/Mixed  511.529825\n",
       "4  1990            White  600.327434"
      ]
     },
     "execution_count": 135,
     "metadata": {},
     "output_type": "execute_result"
    }
   ],
   "source": [
    "race_rent_data = pd.DataFrame(hh_income_and_rent_data.groupby(['year','race_desc'])['rent'].mean()).reset_index()\n",
    "race_rent_data.head()"
   ]
  },
  {
   "cell_type": "markdown",
   "id": "f47b9e84",
   "metadata": {},
   "source": [
    "**Create a line plot showing how average monthly rent has changed by race and year.**\n",
    "\n",
    "Average monthly rent has risen steadily for all groups, rising the most dramatically for Whites and Asians, second most for Blacks and Other/Mixed race, and the least for Native American. These rises fall somewhat in line with what we see in the median income distribution by race."
   ]
  },
  {
   "cell_type": "code",
   "execution_count": 138,
   "id": "5675dd99",
   "metadata": {},
   "outputs": [
    {
     "data": {
      "image/png": "[encoded data removed]",
      "text/plain": [
       "<Figure size 640x480 with 1 Axes>"
      ]
     },
     "metadata": {},
     "output_type": "display_data"
    }
   ],
   "source": [
    "sns.lineplot(data=race_rent_data, x='year', y='rent', hue='race_desc')\n",
    "\n",
    "plt.xlabel(\"Year\")\n",
    "plt.ylabel(\"Monthly Rent ($)\")\n",
    "plt.legend(title='Race')\n",
    "plt.title(\"Average Monthly Rent by Race Over Time in California\")\n",
    "\n",
    "plt.show()"
   ]
  },
  {
   "cell_type": "markdown",
   "id": "6fbb83ad",
   "metadata": {},
   "source": [
    "## Summary"
   ]
  },
  {
   "cell_type": "code",
   "execution_count": null,
   "id": "0b677b6f",
   "metadata": {},
   "outputs": [],
   "source": []
  }
 ],
 "metadata": {
  "kernelspec": {
   "display_name": "Python 3 (ipykernel)",
   "language": "python",
   "name": "python3"
  },
  "language_info": {
   "codemirror_mode": {
    "name": "ipython",
    "version": 3
   },
   "file_extension": ".py",
   "mimetype": "text/x-python",
   "name": "python",
   "nbconvert_exporter": "python",
   "pygments_lexer": "ipython3",
   "version": "3.11.4"
  }
 },
 "nbformat": 4,
 "nbformat_minor": 5
}
